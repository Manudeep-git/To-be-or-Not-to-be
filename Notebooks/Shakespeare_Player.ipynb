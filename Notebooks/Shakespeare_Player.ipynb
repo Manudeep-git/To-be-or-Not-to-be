{
 "cells": [
  {
   "cell_type": "markdown",
   "metadata": {
    "colab_type": "text",
    "id": "geHou8Y8Oomb"
   },
   "source": [
    "## To be or Not to Be\n"
   ]
  },
  {
   "cell_type": "markdown",
   "metadata": {
    "colab_type": "text",
    "id": "BYd1LduGPIsY"
   },
   "source": [
    "This Project intends to use Exploratory data analysis, some of feature engineering techniques in order to  build classification models for determining the players in Shakespeare Plays Using other columns as features\n",
    "\n",
    "<br>Main focus would be on Feature engineering and Classification Models"
   ]
  },
  {
   "cell_type": "markdown",
   "metadata": {
    "colab_type": "text",
    "id": "TnxKrvU3QpbH"
   },
   "source": [
    "Steps undertaken:<br>\n",
    "Data Preprocessing, Exploratory data analysis <br>\n",
    "Feature Extraction, Feature Transformation <br>\n",
    "Classification Models : Decision Trees, Naive Bayes\n",
    "\n"
   ]
  },
  {
   "cell_type": "markdown",
   "metadata": {
    "colab_type": "text",
    "id": "TjDEhqByQpmw"
   },
   "source": []
  },
  {
   "cell_type": "markdown",
   "metadata": {
    "colab_type": "text",
    "id": "Wo9BSM6_OBkN"
   },
   "source": [
    "## Loading Dataset and Importing Required modules\n"
   ]
  },
  {
   "cell_type": "code",
   "execution_count": 14,
   "metadata": {
    "colab": {},
    "colab_type": "code",
    "id": "Jn97qS1GTMN5"
   },
   "outputs": [],
   "source": [
    "%matplotlib inline\n",
    "import warnings\n",
    "warnings.filterwarnings(\"ignore\")\n",
    "import string\n",
    "import matplotlib.pyplot as plt\n",
    "import seaborn as sns\n",
    "import pandas as pd\n",
    "import numpy as np\n",
    "import io\n",
    "\n",
    "from sklearn.feature_extraction.text import TfidfTransformer\n",
    "from sklearn.feature_extraction.text import TfidfVectorizer\n",
    "\n",
    "from sklearn.feature_extraction.text import CountVectorizer\n",
    "df = pd.read_csv('../Data/Shakespeare_data.csv') "
   ]
  },
  {
   "cell_type": "code",
   "execution_count": 15,
   "metadata": {
    "colab": {
     "base_uri": "https://localhost:8080/",
     "height": 195
    },
    "colab_type": "code",
    "id": "jAQbpGYUTMZ5",
    "outputId": "a572ed44-3cd5-49bf-e681-ffb1fbeeb858"
   },
   "outputs": [
    {
     "data": {
      "text/html": [
       "<div>\n",
       "<style scoped>\n",
       "    .dataframe tbody tr th:only-of-type {\n",
       "        vertical-align: middle;\n",
       "    }\n",
       "\n",
       "    .dataframe tbody tr th {\n",
       "        vertical-align: top;\n",
       "    }\n",
       "\n",
       "    .dataframe thead th {\n",
       "        text-align: right;\n",
       "    }\n",
       "</style>\n",
       "<table border=\"1\" class=\"dataframe\">\n",
       "  <thead>\n",
       "    <tr style=\"text-align: right;\">\n",
       "      <th></th>\n",
       "      <th>Dataline</th>\n",
       "      <th>Play</th>\n",
       "      <th>PlayerLinenumber</th>\n",
       "      <th>ActSceneLine</th>\n",
       "      <th>Player</th>\n",
       "      <th>PlayerLine</th>\n",
       "    </tr>\n",
       "  </thead>\n",
       "  <tbody>\n",
       "    <tr>\n",
       "      <th>0</th>\n",
       "      <td>1</td>\n",
       "      <td>Henry IV</td>\n",
       "      <td>NaN</td>\n",
       "      <td>NaN</td>\n",
       "      <td>NaN</td>\n",
       "      <td>ACT I</td>\n",
       "    </tr>\n",
       "    <tr>\n",
       "      <th>1</th>\n",
       "      <td>2</td>\n",
       "      <td>Henry IV</td>\n",
       "      <td>NaN</td>\n",
       "      <td>NaN</td>\n",
       "      <td>NaN</td>\n",
       "      <td>SCENE I. London. The palace.</td>\n",
       "    </tr>\n",
       "    <tr>\n",
       "      <th>2</th>\n",
       "      <td>3</td>\n",
       "      <td>Henry IV</td>\n",
       "      <td>NaN</td>\n",
       "      <td>NaN</td>\n",
       "      <td>NaN</td>\n",
       "      <td>Enter KING HENRY, LORD JOHN OF LANCASTER, the ...</td>\n",
       "    </tr>\n",
       "    <tr>\n",
       "      <th>3</th>\n",
       "      <td>4</td>\n",
       "      <td>Henry IV</td>\n",
       "      <td>1.0</td>\n",
       "      <td>1.1.1</td>\n",
       "      <td>KING HENRY IV</td>\n",
       "      <td>So shaken as we are, so wan with care,</td>\n",
       "    </tr>\n",
       "    <tr>\n",
       "      <th>4</th>\n",
       "      <td>5</td>\n",
       "      <td>Henry IV</td>\n",
       "      <td>1.0</td>\n",
       "      <td>1.1.2</td>\n",
       "      <td>KING HENRY IV</td>\n",
       "      <td>Find we a time for frighted peace to pant,</td>\n",
       "    </tr>\n",
       "  </tbody>\n",
       "</table>\n",
       "</div>"
      ],
      "text/plain": [
       "   Dataline      Play  PlayerLinenumber ActSceneLine         Player  \\\n",
       "0         1  Henry IV               NaN          NaN            NaN   \n",
       "1         2  Henry IV               NaN          NaN            NaN   \n",
       "2         3  Henry IV               NaN          NaN            NaN   \n",
       "3         4  Henry IV               1.0        1.1.1  KING HENRY IV   \n",
       "4         5  Henry IV               1.0        1.1.2  KING HENRY IV   \n",
       "\n",
       "                                          PlayerLine  \n",
       "0                                              ACT I  \n",
       "1                       SCENE I. London. The palace.  \n",
       "2  Enter KING HENRY, LORD JOHN OF LANCASTER, the ...  \n",
       "3             So shaken as we are, so wan with care,  \n",
       "4         Find we a time for frighted peace to pant,  "
      ]
     },
     "execution_count": 15,
     "metadata": {},
     "output_type": "execute_result"
    }
   ],
   "source": [
    "df.head()"
   ]
  },
  {
   "cell_type": "markdown",
   "metadata": {
    "colab_type": "text",
    "id": "7Ac2Uy77ZtaC"
   },
   "source": [
    " ### Some knowledge about data"
   ]
  },
  {
   "cell_type": "markdown",
   "metadata": {
    "colab_type": "text",
    "id": "pGvL9EAKd5Wt"
   },
   "source": [
    "Data-Line just keeps track of rows, hence not required<br>\n",
    "Play - The play that the respective lines(PlayerLine) are form<br>\n",
    "PlayerLinunumber: Actual Line being spoke at any given time<br>\n",
    "ActSceneLine: Act-Scene-Line from which any given line is from.<br>\n",
    "Player: Player saying the line<br>\n",
    "PlayerLine: Line being spoken<br>"
   ]
  },
  {
   "cell_type": "code",
   "execution_count": 16,
   "metadata": {
    "colab": {
     "base_uri": "https://localhost:8080/",
     "height": 34
    },
    "colab_type": "code",
    "id": "IN7O3MoLZycM",
    "outputId": "d0981863-e50e-46b8-eaec-0c41f36bd32b"
   },
   "outputs": [
    {
     "data": {
      "text/plain": [
       "(111396, 6)"
      ]
     },
     "execution_count": 16,
     "metadata": {},
     "output_type": "execute_result"
    }
   ],
   "source": [
    "df.shape"
   ]
  },
  {
   "cell_type": "code",
   "execution_count": 17,
   "metadata": {
    "colab": {
     "base_uri": "https://localhost:8080/",
     "height": 134
    },
    "colab_type": "code",
    "id": "58J_wnX-Z19L",
    "outputId": "60f53625-1a3d-49af-f50a-2ddad912c6c6"
   },
   "outputs": [
    {
     "data": {
      "text/plain": [
       "Dataline               0\n",
       "Play                   0\n",
       "PlayerLinenumber       3\n",
       "ActSceneLine        6243\n",
       "Player                 7\n",
       "PlayerLine             0\n",
       "dtype: int64"
      ]
     },
     "execution_count": 17,
     "metadata": {},
     "output_type": "execute_result"
    }
   ],
   "source": [
    "df.isnull().sum()"
   ]
  },
  {
   "cell_type": "markdown",
   "metadata": {
    "colab_type": "text",
    "id": "nYrG_WruaH_e"
   },
   "source": [
    "After seeing the data, we can drop the Dataline as it simply counts the rows as Index"
   ]
  },
  {
   "cell_type": "markdown",
   "metadata": {
    "colab_type": "text",
    "id": "G_8DzQYgaSy3"
   },
   "source": [
    "As Observed in the dataset, there are some missing values, while it's a general tendency to drop the entire rows, there is one more technique called \"Imputation\" and we will make use of it."
   ]
  },
  {
   "cell_type": "markdown",
   "metadata": {
    "colab_type": "text",
    "id": "zQlFb0Dyaa0C"
   },
   "source": [
    "We will Impute the 'null' or 'na' values in the column using maximum occured value "
   ]
  },
  {
   "cell_type": "code",
   "execution_count": 18,
   "metadata": {
    "colab": {},
    "colab_type": "code",
    "id": "dp5zD27haszP"
   },
   "outputs": [],
   "source": [
    "df['ActSceneLine'].fillna(df['ActSceneLine'].value_counts() .idxmax(), inplace=True)\n",
    "df['PlayerLinenumber'].fillna(df['PlayerLinenumber'].value_counts().idxmax(), inplace=True)\n",
    "df['Player'].fillna(df['Player'].value_counts().idxmax(), inplace=True)"
   ]
  },
  {
   "cell_type": "code",
   "execution_count": 19,
   "metadata": {
    "colab": {
     "base_uri": "https://localhost:8080/",
     "height": 195
    },
    "colab_type": "code",
    "id": "-Q46k16ZapHU",
    "outputId": "f2f83e56-269c-4dc2-e798-4270acb28c74"
   },
   "outputs": [
    {
     "data": {
      "text/html": [
       "<div>\n",
       "<style scoped>\n",
       "    .dataframe tbody tr th:only-of-type {\n",
       "        vertical-align: middle;\n",
       "    }\n",
       "\n",
       "    .dataframe tbody tr th {\n",
       "        vertical-align: top;\n",
       "    }\n",
       "\n",
       "    .dataframe thead th {\n",
       "        text-align: right;\n",
       "    }\n",
       "</style>\n",
       "<table border=\"1\" class=\"dataframe\">\n",
       "  <thead>\n",
       "    <tr style=\"text-align: right;\">\n",
       "      <th></th>\n",
       "      <th>Play</th>\n",
       "      <th>PlayerLinenumber</th>\n",
       "      <th>ActSceneLine</th>\n",
       "      <th>Player</th>\n",
       "      <th>PlayerLine</th>\n",
       "    </tr>\n",
       "  </thead>\n",
       "  <tbody>\n",
       "    <tr>\n",
       "      <th>0</th>\n",
       "      <td>Henry IV</td>\n",
       "      <td>1.0</td>\n",
       "      <td>5.1.3</td>\n",
       "      <td>GLOUCESTER</td>\n",
       "      <td>ACT I</td>\n",
       "    </tr>\n",
       "    <tr>\n",
       "      <th>1</th>\n",
       "      <td>Henry IV</td>\n",
       "      <td>1.0</td>\n",
       "      <td>5.1.3</td>\n",
       "      <td>GLOUCESTER</td>\n",
       "      <td>SCENE I. London. The palace.</td>\n",
       "    </tr>\n",
       "    <tr>\n",
       "      <th>2</th>\n",
       "      <td>Henry IV</td>\n",
       "      <td>1.0</td>\n",
       "      <td>5.1.3</td>\n",
       "      <td>GLOUCESTER</td>\n",
       "      <td>Enter KING HENRY, LORD JOHN OF LANCASTER, the ...</td>\n",
       "    </tr>\n",
       "    <tr>\n",
       "      <th>3</th>\n",
       "      <td>Henry IV</td>\n",
       "      <td>1.0</td>\n",
       "      <td>1.1.1</td>\n",
       "      <td>KING HENRY IV</td>\n",
       "      <td>So shaken as we are, so wan with care,</td>\n",
       "    </tr>\n",
       "    <tr>\n",
       "      <th>4</th>\n",
       "      <td>Henry IV</td>\n",
       "      <td>1.0</td>\n",
       "      <td>1.1.2</td>\n",
       "      <td>KING HENRY IV</td>\n",
       "      <td>Find we a time for frighted peace to pant,</td>\n",
       "    </tr>\n",
       "  </tbody>\n",
       "</table>\n",
       "</div>"
      ],
      "text/plain": [
       "       Play  PlayerLinenumber ActSceneLine         Player  \\\n",
       "0  Henry IV               1.0        5.1.3     GLOUCESTER   \n",
       "1  Henry IV               1.0        5.1.3     GLOUCESTER   \n",
       "2  Henry IV               1.0        5.1.3     GLOUCESTER   \n",
       "3  Henry IV               1.0        1.1.1  KING HENRY IV   \n",
       "4  Henry IV               1.0        1.1.2  KING HENRY IV   \n",
       "\n",
       "                                          PlayerLine  \n",
       "0                                              ACT I  \n",
       "1                       SCENE I. London. The palace.  \n",
       "2  Enter KING HENRY, LORD JOHN OF LANCASTER, the ...  \n",
       "3             So shaken as we are, so wan with care,  \n",
       "4         Find we a time for frighted peace to pant,  "
      ]
     },
     "execution_count": 19,
     "metadata": {},
     "output_type": "execute_result"
    }
   ],
   "source": [
    "df.drop('Dataline',axis=1,inplace=True)\n",
    "df.head()"
   ]
  },
  {
   "cell_type": "code",
   "execution_count": 20,
   "metadata": {
    "colab": {
     "base_uri": "https://localhost:8080/",
     "height": 34
    },
    "colab_type": "code",
    "id": "ntTDolz1Z1yH",
    "outputId": "c2c857c1-772a-4da6-a8c4-6dc30fdbaeef"
   },
   "outputs": [
    {
     "data": {
      "text/plain": [
       "934"
      ]
     },
     "execution_count": 20,
     "metadata": {},
     "output_type": "execute_result"
    }
   ],
   "source": [
    "#shows number of unique players to classify\n",
    "df.Player.nunique()"
   ]
  },
  {
   "cell_type": "code",
   "execution_count": 21,
   "metadata": {
    "colab": {
     "base_uri": "https://localhost:8080/",
     "height": 34
    },
    "colab_type": "code",
    "id": "Nau86Hrncfzy",
    "outputId": "4ff41447-c355-47a7-e79d-e3972e92dbb1"
   },
   "outputs": [
    {
     "data": {
      "text/plain": [
       "36"
      ]
     },
     "execution_count": 21,
     "metadata": {},
     "output_type": "execute_result"
    }
   ],
   "source": [
    "# shows unique number of Plays\n",
    "df.Play.nunique()"
   ]
  },
  {
   "cell_type": "code",
   "execution_count": 23,
   "metadata": {
    "colab": {
     "base_uri": "https://localhost:8080/",
     "height": 34
    },
    "colab_type": "code",
    "id": "UjzTOEhSdiPD",
    "outputId": "c9d5fd0b-d878-42c8-96b3-29820f3e40ba"
   },
   "outputs": [
    {
     "data": {
      "text/plain": [
       "107580"
      ]
     },
     "execution_count": 23,
     "metadata": {},
     "output_type": "execute_result"
    }
   ],
   "source": [
    "# Shows Unique PlayerLines\n",
    "df.PlayerLine.nunique()"
   ]
  },
  {
   "cell_type": "code",
   "execution_count": 10,
   "metadata": {
    "colab": {},
    "colab_type": "code",
    "id": "MrYYDm5TdsLu"
   },
   "outputs": [],
   "source": [
    "# droppping duplicates of PlayerLine\n",
    "df.drop_duplicates(subset=['PlayerLine'],keep='first',inplace=True)"
   ]
  },
  {
   "cell_type": "code",
   "execution_count": 24,
   "metadata": {
    "colab": {
     "base_uri": "https://localhost:8080/",
     "height": 218
    },
    "colab_type": "code",
    "id": "iXzkdGbrdZ53",
    "outputId": "f5d0fd80-de68-4542-c094-23be9b8f0dea"
   },
   "outputs": [
    {
     "name": "stdout",
     "output_type": "stream",
     "text": [
      "<class 'pandas.core.frame.DataFrame'>\n",
      "RangeIndex: 111396 entries, 0 to 111395\n",
      "Data columns (total 5 columns):\n",
      "Play                111396 non-null object\n",
      "PlayerLinenumber    111396 non-null float64\n",
      "ActSceneLine        111396 non-null object\n",
      "Player              111396 non-null object\n",
      "PlayerLine          111396 non-null object\n",
      "dtypes: float64(1), object(4)\n",
      "memory usage: 4.2+ MB\n"
     ]
    }
   ],
   "source": [
    "#columns with object data-type could be used for categorical encoding\n",
    "df.info()"
   ]
  },
  {
   "cell_type": "markdown",
   "metadata": {
    "colab_type": "text",
    "id": "v59t3Ybjcq05"
   },
   "source": [
    "## EDA"
   ]
  },
  {
   "cell_type": "code",
   "execution_count": 25,
   "metadata": {
    "colab": {
     "base_uri": "https://localhost:8080/",
     "height": 118
    },
    "colab_type": "code",
    "id": "ezz5g_Wxckyy",
    "outputId": "c289ac78-5d73-415e-d5c6-5bb0b0228cd0"
   },
   "outputs": [
    {
     "data": {
      "text/plain": [
       "Play                 object\n",
       "PlayerLinenumber    float64\n",
       "ActSceneLine         object\n",
       "Player               object\n",
       "PlayerLine           object\n",
       "dtype: object"
      ]
     },
     "execution_count": 25,
     "metadata": {},
     "output_type": "execute_result"
    }
   ],
   "source": [
    "df.dtypes"
   ]
  },
  {
   "cell_type": "markdown",
   "metadata": {},
   "source": [
    "### Players in Each Play "
   ]
  },
  {
   "cell_type": "code",
   "execution_count": 54,
   "metadata": {},
   "outputs": [],
   "source": [
    "players_per_play=(df.groupby(['Play','Player']).count())[['PlayerLinenumber']].reset_index(drop=False)[['Play']]"
   ]
  },
  {
   "cell_type": "code",
   "execution_count": 35,
   "metadata": {},
   "outputs": [],
   "source": [
    "#players_per_play.get_group('Henry IV')"
   ]
  },
  {
   "cell_type": "code",
   "execution_count": 56,
   "metadata": {},
   "outputs": [
    {
     "data": {
      "text/plain": [
       "Text(0.5, 1.0, 'Players per Play')"
      ]
     },
     "execution_count": 56,
     "metadata": {},
     "output_type": "execute_result"
    },
    {
     "data": {
      "image/png": "[encoded data removed]",
      "text/plain": [
       "<Figure size 1440x720 with 1 Axes>"
      ]
     },
     "metadata": {
      "needs_background": "light"
     },
     "output_type": "display_data"
    }
   ],
   "source": [
    "plt.figure(figsize = (20,10))\n",
    "sns.countplot(x='Play', data=players_per_play,order=players_per_play['Play'].value_counts().index)\n",
    "plt.xticks(rotation=90,fontsize=16)\n",
    "plt.title('Players per Play',fontsize=30)"
   ]
  },
  {
   "cell_type": "markdown",
   "metadata": {},
   "source": [
    "From the above graph we can clearly estimate that if there are more characters in a play, it must mean more wider story. So Richard III has wider plot"
   ]
  },
  {
   "cell_type": "markdown",
   "metadata": {},
   "source": [
    "### PlayerLines vs Play"
   ]
  },
  {
   "cell_type": "code",
   "execution_count": 79,
   "metadata": {},
   "outputs": [
    {
     "data": {
      "text/plain": [
       "Hamlet                  4244\n",
       "Coriolanus              3992\n",
       "Cymbeline               3958\n",
       "Richard III             3941\n",
       "Antony and Cleopatra    3862\n",
       "Name: Play, dtype: int64"
      ]
     },
     "execution_count": 79,
     "metadata": {},
     "output_type": "execute_result"
    }
   ],
   "source": [
    "# Top plays with most or frequent playerlines\n",
    "df['Play'].value_counts().head()"
   ]
  },
  {
   "cell_type": "code",
   "execution_count": 87,
   "metadata": {},
   "outputs": [
    {
     "data": {
      "text/plain": [
       "<matplotlib.axes._subplots.AxesSubplot at 0x1d40b22a320>"
      ]
     },
     "execution_count": 87,
     "metadata": {},
     "output_type": "execute_result"
    },
    {
     "data": {
      "image/png": "[encoded data removed]",
      "text/plain": [
       "<Figure size 1440x720 with 1 Axes>"
      ]
     },
     "metadata": {
      "needs_background": "light"
     },
     "output_type": "display_data"
    }
   ],
   "source": [
    "Lines_per_play=df.groupby('Play').count()['PlayerLinenumber'].reset_index(drop=False)\n",
    "Lines_per_play=Lines_per_play.sort_values(by='PlayerLinenumber',ascending=False)\n",
    "plt.figure(figsize=(20,10))\n",
    "plt.xticks(rotation=90,fontsize=12)               \n",
    "sns.barplot(x=Lines_per_play['Play'],y=Lines_per_play['PlayerLinenumber'])"
   ]
  },
  {
   "cell_type": "code",
   "execution_count": 89,
   "metadata": {},
   "outputs": [
    {
     "data": {
      "text/html": [
       "<div>\n",
       "<style scoped>\n",
       "    .dataframe tbody tr th:only-of-type {\n",
       "        vertical-align: middle;\n",
       "    }\n",
       "\n",
       "    .dataframe tbody tr th {\n",
       "        vertical-align: top;\n",
       "    }\n",
       "\n",
       "    .dataframe thead th {\n",
       "        text-align: right;\n",
       "    }\n",
       "</style>\n",
       "<table border=\"1\" class=\"dataframe\">\n",
       "  <thead>\n",
       "    <tr style=\"text-align: right;\">\n",
       "      <th></th>\n",
       "      <th>Play</th>\n",
       "      <th>PlayerLinenumber</th>\n",
       "    </tr>\n",
       "  </thead>\n",
       "  <tbody>\n",
       "    <tr>\n",
       "      <th>0</th>\n",
       "      <td>Hamlet</td>\n",
       "      <td>4244</td>\n",
       "    </tr>\n",
       "    <tr>\n",
       "      <th>1</th>\n",
       "      <td>Coriolanus</td>\n",
       "      <td>3992</td>\n",
       "    </tr>\n",
       "    <tr>\n",
       "      <th>2</th>\n",
       "      <td>Cymbeline</td>\n",
       "      <td>3958</td>\n",
       "    </tr>\n",
       "    <tr>\n",
       "      <th>3</th>\n",
       "      <td>Richard III</td>\n",
       "      <td>3941</td>\n",
       "    </tr>\n",
       "    <tr>\n",
       "      <th>4</th>\n",
       "      <td>Antony and Cleopatra</td>\n",
       "      <td>3862</td>\n",
       "    </tr>\n",
       "    <tr>\n",
       "      <th>5</th>\n",
       "      <td>King Lear</td>\n",
       "      <td>3766</td>\n",
       "    </tr>\n",
       "    <tr>\n",
       "      <th>6</th>\n",
       "      <td>Othello</td>\n",
       "      <td>3762</td>\n",
       "    </tr>\n",
       "    <tr>\n",
       "      <th>7</th>\n",
       "      <td>Troilus and Cressida</td>\n",
       "      <td>3711</td>\n",
       "    </tr>\n",
       "    <tr>\n",
       "      <th>8</th>\n",
       "      <td>A Winters Tale</td>\n",
       "      <td>3489</td>\n",
       "    </tr>\n",
       "    <tr>\n",
       "      <th>9</th>\n",
       "      <td>Henry VIII</td>\n",
       "      <td>3419</td>\n",
       "    </tr>\n",
       "    <tr>\n",
       "      <th>10</th>\n",
       "      <td>Henry V</td>\n",
       "      <td>3395</td>\n",
       "    </tr>\n",
       "    <tr>\n",
       "      <th>11</th>\n",
       "      <td>Henry VI Part 2</td>\n",
       "      <td>3334</td>\n",
       "    </tr>\n",
       "    <tr>\n",
       "      <th>12</th>\n",
       "      <td>Romeo and Juliet</td>\n",
       "      <td>3313</td>\n",
       "    </tr>\n",
       "    <tr>\n",
       "      <th>13</th>\n",
       "      <td>Henry IV</td>\n",
       "      <td>3205</td>\n",
       "    </tr>\n",
       "    <tr>\n",
       "      <th>14</th>\n",
       "      <td>Henry VI Part 3</td>\n",
       "      <td>3138</td>\n",
       "    </tr>\n",
       "    <tr>\n",
       "      <th>15</th>\n",
       "      <td>Alls well that ends well</td>\n",
       "      <td>3083</td>\n",
       "    </tr>\n",
       "    <tr>\n",
       "      <th>16</th>\n",
       "      <td>Measure for measure</td>\n",
       "      <td>2998</td>\n",
       "    </tr>\n",
       "    <tr>\n",
       "      <th>17</th>\n",
       "      <td>Loves Labours Lost</td>\n",
       "      <td>2986</td>\n",
       "    </tr>\n",
       "    <tr>\n",
       "      <th>18</th>\n",
       "      <td>Henry VI Part 1</td>\n",
       "      <td>2983</td>\n",
       "    </tr>\n",
       "    <tr>\n",
       "      <th>19</th>\n",
       "      <td>Richard II</td>\n",
       "      <td>2937</td>\n",
       "    </tr>\n",
       "    <tr>\n",
       "      <th>20</th>\n",
       "      <td>Merry Wives of Windsor</td>\n",
       "      <td>2831</td>\n",
       "    </tr>\n",
       "    <tr>\n",
       "      <th>21</th>\n",
       "      <td>As you like it</td>\n",
       "      <td>2822</td>\n",
       "    </tr>\n",
       "    <tr>\n",
       "      <th>22</th>\n",
       "      <td>Taming of the Shrew</td>\n",
       "      <td>2806</td>\n",
       "    </tr>\n",
       "    <tr>\n",
       "      <th>23</th>\n",
       "      <td>Merchant of Venice</td>\n",
       "      <td>2802</td>\n",
       "    </tr>\n",
       "    <tr>\n",
       "      <th>24</th>\n",
       "      <td>Julius Caesar</td>\n",
       "      <td>2771</td>\n",
       "    </tr>\n",
       "    <tr>\n",
       "      <th>25</th>\n",
       "      <td>King John</td>\n",
       "      <td>2766</td>\n",
       "    </tr>\n",
       "    <tr>\n",
       "      <th>26</th>\n",
       "      <td>Titus Andronicus</td>\n",
       "      <td>2726</td>\n",
       "    </tr>\n",
       "    <tr>\n",
       "      <th>27</th>\n",
       "      <td>Much Ado about nothing</td>\n",
       "      <td>2704</td>\n",
       "    </tr>\n",
       "    <tr>\n",
       "      <th>28</th>\n",
       "      <td>Timon of Athens</td>\n",
       "      <td>2662</td>\n",
       "    </tr>\n",
       "    <tr>\n",
       "      <th>29</th>\n",
       "      <td>Twelfth Night</td>\n",
       "      <td>2648</td>\n",
       "    </tr>\n",
       "    <tr>\n",
       "      <th>30</th>\n",
       "      <td>Pericles</td>\n",
       "      <td>2641</td>\n",
       "    </tr>\n",
       "    <tr>\n",
       "      <th>31</th>\n",
       "      <td>macbeth</td>\n",
       "      <td>2586</td>\n",
       "    </tr>\n",
       "    <tr>\n",
       "      <th>32</th>\n",
       "      <td>The Tempest</td>\n",
       "      <td>2403</td>\n",
       "    </tr>\n",
       "    <tr>\n",
       "      <th>33</th>\n",
       "      <td>Two Gentlemen of Verona</td>\n",
       "      <td>2357</td>\n",
       "    </tr>\n",
       "    <tr>\n",
       "      <th>34</th>\n",
       "      <td>A Midsummer nights dream</td>\n",
       "      <td>2300</td>\n",
       "    </tr>\n",
       "    <tr>\n",
       "      <th>35</th>\n",
       "      <td>A Comedy of Errors</td>\n",
       "      <td>2055</td>\n",
       "    </tr>\n",
       "  </tbody>\n",
       "</table>\n",
       "</div>"
      ],
      "text/plain": [
       "                        Play  PlayerLinenumber\n",
       "0                     Hamlet              4244\n",
       "1                 Coriolanus              3992\n",
       "2                  Cymbeline              3958\n",
       "3                Richard III              3941\n",
       "4       Antony and Cleopatra              3862\n",
       "5                  King Lear              3766\n",
       "6                    Othello              3762\n",
       "7       Troilus and Cressida              3711\n",
       "8             A Winters Tale              3489\n",
       "9                 Henry VIII              3419\n",
       "10                   Henry V              3395\n",
       "11           Henry VI Part 2              3334\n",
       "12          Romeo and Juliet              3313\n",
       "13                  Henry IV              3205\n",
       "14           Henry VI Part 3              3138\n",
       "15  Alls well that ends well              3083\n",
       "16       Measure for measure              2998\n",
       "17        Loves Labours Lost              2986\n",
       "18           Henry VI Part 1              2983\n",
       "19                Richard II              2937\n",
       "20    Merry Wives of Windsor              2831\n",
       "21            As you like it              2822\n",
       "22       Taming of the Shrew              2806\n",
       "23        Merchant of Venice              2802\n",
       "24             Julius Caesar              2771\n",
       "25                 King John              2766\n",
       "26          Titus Andronicus              2726\n",
       "27    Much Ado about nothing              2704\n",
       "28           Timon of Athens              2662\n",
       "29             Twelfth Night              2648\n",
       "30                  Pericles              2641\n",
       "31                   macbeth              2586\n",
       "32               The Tempest              2403\n",
       "33   Two Gentlemen of Verona              2357\n",
       "34  A Midsummer nights dream              2300\n",
       "35        A Comedy of Errors              2055"
      ]
     },
     "execution_count": 89,
     "metadata": {},
     "output_type": "execute_result"
    }
   ],
   "source": [
    "# dataframe representation of above\n",
    "Lines_per_play.reset_index(drop=True)"
   ]
  },
  {
   "cell_type": "code",
   "execution_count": 90,
   "metadata": {
    "colab": {
     "base_uri": "https://localhost:8080/",
     "height": 279
    },
    "colab_type": "code",
    "id": "-fhIpGHsck3j",
    "outputId": "741ade1b-607f-4916-c9fe-acdf4a143932"
   },
   "outputs": [
    {
     "data": {
      "image/png": "[encoded data removed]",
      "text/plain": [
       "<Figure size 432x288 with 1 Axes>"
      ]
     },
     "metadata": {
      "needs_background": "light"
     },
     "output_type": "display_data"
    }
   ],
   "source": [
    "sns.countplot(df['Player'],label=\"Count\")\n",
    "plt.show()"
   ]
  },
  {
   "cell_type": "markdown",
   "metadata": {},
   "source": [
    "Play Count"
   ]
  },
  {
   "cell_type": "markdown",
   "metadata": {
    "colab_type": "text",
    "id": "zlnyQjPoiV0v"
   },
   "source": [
    "### Feature Extraction"
   ]
  },
  {
   "cell_type": "markdown",
   "metadata": {
    "colab_type": "text",
    "id": "yLelLIoqidM0"
   },
   "source": [
    "ActSceneLine has three different values and these can be split into individual columns to give more meaning to data"
   ]
  },
  {
   "cell_type": "code",
   "execution_count": 93,
   "metadata": {
    "colab": {},
    "colab_type": "code",
    "id": "yPFeKyGCck-a"
   },
   "outputs": [],
   "source": [
    "actsceneline=df['ActSceneLine'].str.split('.',n=-1,expand=True)\n",
    "df1=df\n",
    "df1['Act']=actsceneline[0]\n",
    "df1['Scene']=actsceneline[1]\n",
    "df1['Line']=actsceneline[2]"
   ]
  },
  {
   "cell_type": "code",
   "execution_count": 94,
   "metadata": {
    "colab": {
     "base_uri": "https://localhost:8080/",
     "height": 195
    },
    "colab_type": "code",
    "id": "-DSa6Y32ck7M",
    "outputId": "8fbc140e-ffa3-49cf-cbcb-b183a63bab46"
   },
   "outputs": [
    {
     "data": {
      "text/html": [
       "<div>\n",
       "<style scoped>\n",
       "    .dataframe tbody tr th:only-of-type {\n",
       "        vertical-align: middle;\n",
       "    }\n",
       "\n",
       "    .dataframe tbody tr th {\n",
       "        vertical-align: top;\n",
       "    }\n",
       "\n",
       "    .dataframe thead th {\n",
       "        text-align: right;\n",
       "    }\n",
       "</style>\n",
       "<table border=\"1\" class=\"dataframe\">\n",
       "  <thead>\n",
       "    <tr style=\"text-align: right;\">\n",
       "      <th></th>\n",
       "      <th>Play</th>\n",
       "      <th>PlayerLinenumber</th>\n",
       "      <th>ActSceneLine</th>\n",
       "      <th>Player</th>\n",
       "      <th>PlayerLine</th>\n",
       "      <th>Act</th>\n",
       "      <th>Scene</th>\n",
       "      <th>Line</th>\n",
       "    </tr>\n",
       "  </thead>\n",
       "  <tbody>\n",
       "    <tr>\n",
       "      <th>0</th>\n",
       "      <td>Henry IV</td>\n",
       "      <td>1.0</td>\n",
       "      <td>5.1.3</td>\n",
       "      <td>GLOUCESTER</td>\n",
       "      <td>ACT I</td>\n",
       "      <td>5</td>\n",
       "      <td>1</td>\n",
       "      <td>3</td>\n",
       "    </tr>\n",
       "    <tr>\n",
       "      <th>1</th>\n",
       "      <td>Henry IV</td>\n",
       "      <td>1.0</td>\n",
       "      <td>5.1.3</td>\n",
       "      <td>GLOUCESTER</td>\n",
       "      <td>SCENE I. London. The palace.</td>\n",
       "      <td>5</td>\n",
       "      <td>1</td>\n",
       "      <td>3</td>\n",
       "    </tr>\n",
       "    <tr>\n",
       "      <th>2</th>\n",
       "      <td>Henry IV</td>\n",
       "      <td>1.0</td>\n",
       "      <td>5.1.3</td>\n",
       "      <td>GLOUCESTER</td>\n",
       "      <td>Enter KING HENRY, LORD JOHN OF LANCASTER, the ...</td>\n",
       "      <td>5</td>\n",
       "      <td>1</td>\n",
       "      <td>3</td>\n",
       "    </tr>\n",
       "    <tr>\n",
       "      <th>3</th>\n",
       "      <td>Henry IV</td>\n",
       "      <td>1.0</td>\n",
       "      <td>1.1.1</td>\n",
       "      <td>KING HENRY IV</td>\n",
       "      <td>So shaken as we are, so wan with care,</td>\n",
       "      <td>1</td>\n",
       "      <td>1</td>\n",
       "      <td>1</td>\n",
       "    </tr>\n",
       "    <tr>\n",
       "      <th>4</th>\n",
       "      <td>Henry IV</td>\n",
       "      <td>1.0</td>\n",
       "      <td>1.1.2</td>\n",
       "      <td>KING HENRY IV</td>\n",
       "      <td>Find we a time for frighted peace to pant,</td>\n",
       "      <td>1</td>\n",
       "      <td>1</td>\n",
       "      <td>2</td>\n",
       "    </tr>\n",
       "  </tbody>\n",
       "</table>\n",
       "</div>"
      ],
      "text/plain": [
       "       Play  PlayerLinenumber ActSceneLine         Player  \\\n",
       "0  Henry IV               1.0        5.1.3     GLOUCESTER   \n",
       "1  Henry IV               1.0        5.1.3     GLOUCESTER   \n",
       "2  Henry IV               1.0        5.1.3     GLOUCESTER   \n",
       "3  Henry IV               1.0        1.1.1  KING HENRY IV   \n",
       "4  Henry IV               1.0        1.1.2  KING HENRY IV   \n",
       "\n",
       "                                          PlayerLine Act Scene Line  \n",
       "0                                              ACT I   5     1    3  \n",
       "1                       SCENE I. London. The palace.   5     1    3  \n",
       "2  Enter KING HENRY, LORD JOHN OF LANCASTER, the ...   5     1    3  \n",
       "3             So shaken as we are, so wan with care,   1     1    1  \n",
       "4         Find we a time for frighted peace to pant,   1     1    2  "
      ]
     },
     "execution_count": 94,
     "metadata": {},
     "output_type": "execute_result"
    }
   ],
   "source": [
    "df1.head()"
   ]
  },
  {
   "cell_type": "markdown",
   "metadata": {
    "colab_type": "text",
    "id": "CkMevBPTkkCv"
   },
   "source": [
    "Box plot for each numerical or categorical variable will give us a clearer idea of the distribution of the input variables"
   ]
  },
  {
   "cell_type": "code",
   "execution_count": 95,
   "metadata": {
    "colab": {
     "base_uri": "https://localhost:8080/",
     "height": 602
    },
    "colab_type": "code",
    "id": "PMkaYcrVkpsC",
    "outputId": "31107e40-4052-4884-a24f-f2fe06d1dbd2"
   },
   "outputs": [
    {
     "data": {
      "image/png": "[encoded data removed]",
      "text/plain": [
       "<Figure size 648x648 with 1 Axes>"
      ]
     },
     "metadata": {
      "needs_background": "light"
     },
     "output_type": "display_data"
    }
   ],
   "source": [
    "df1.drop('Player', axis=1).plot(kind='box', subplots=True, layout=(1,1) ,figsize=(9,9),  title='Box Plot for input variable')\n",
    "plt.show()"
   ]
  },
  {
   "cell_type": "markdown",
   "metadata": {
    "colab_type": "text",
    "id": "qxrEUREAmx72"
   },
   "source": [
    "Boxplot can also be used to analyze relationship between categorical  variable and continous variable"
   ]
  },
  {
   "cell_type": "code",
   "execution_count": 96,
   "metadata": {
    "colab": {
     "base_uri": "https://localhost:8080/",
     "height": 805
    },
    "colab_type": "code",
    "id": "bU3C_xP8nDJX",
    "outputId": "5f29b0ef-3bca-48ff-db34-b7b01d32dcad"
   },
   "outputs": [
    {
     "data": {
      "text/plain": [
       "<matplotlib.axes._subplots.AxesSubplot at 0x1d40c9ae048>"
      ]
     },
     "execution_count": 96,
     "metadata": {},
     "output_type": "execute_result"
    },
    {
     "data": {
      "image/png": "[encoded data removed]",
      "text/plain": [
       "<Figure size 1440x720 with 1 Axes>"
      ]
     },
     "metadata": {
      "needs_background": "light"
     },
     "output_type": "display_data"
    }
   ],
   "source": [
    "df1.boxplot('PlayerLinenumber','Play',rot=100,figsize=(20,10))"
   ]
  },
  {
   "cell_type": "markdown",
   "metadata": {},
   "source": [
    "## Feature Transformation"
   ]
  },
  {
   "cell_type": "markdown",
   "metadata": {},
   "source": [
    "In datasets like this where we have multiple data types, it becomes challenging to apply transforms to some, but not all inputs"
   ]
  },
  {
   "cell_type": "markdown",
   "metadata": {},
   "source": [
    "We will make use of <b>Scikit ColumnTransformer </b> that allows you to selectively apply data transforms to different columns in your dataset."
   ]
  },
  {
   "cell_type": "code",
   "execution_count": 97,
   "metadata": {},
   "outputs": [
    {
     "data": {
      "text/html": [
       "<div>\n",
       "<style scoped>\n",
       "    .dataframe tbody tr th:only-of-type {\n",
       "        vertical-align: middle;\n",
       "    }\n",
       "\n",
       "    .dataframe tbody tr th {\n",
       "        vertical-align: top;\n",
       "    }\n",
       "\n",
       "    .dataframe thead th {\n",
       "        text-align: right;\n",
       "    }\n",
       "</style>\n",
       "<table border=\"1\" class=\"dataframe\">\n",
       "  <thead>\n",
       "    <tr style=\"text-align: right;\">\n",
       "      <th></th>\n",
       "      <th>Play</th>\n",
       "      <th>PlayerLinenumber</th>\n",
       "      <th>ActSceneLine</th>\n",
       "      <th>Player</th>\n",
       "      <th>PlayerLine</th>\n",
       "      <th>Act</th>\n",
       "      <th>Scene</th>\n",
       "      <th>Line</th>\n",
       "    </tr>\n",
       "  </thead>\n",
       "  <tbody>\n",
       "    <tr>\n",
       "      <th>0</th>\n",
       "      <td>Henry IV</td>\n",
       "      <td>1.0</td>\n",
       "      <td>5.1.3</td>\n",
       "      <td>GLOUCESTER</td>\n",
       "      <td>ACT I</td>\n",
       "      <td>5</td>\n",
       "      <td>1</td>\n",
       "      <td>3</td>\n",
       "    </tr>\n",
       "    <tr>\n",
       "      <th>1</th>\n",
       "      <td>Henry IV</td>\n",
       "      <td>1.0</td>\n",
       "      <td>5.1.3</td>\n",
       "      <td>GLOUCESTER</td>\n",
       "      <td>SCENE I. London. The palace.</td>\n",
       "      <td>5</td>\n",
       "      <td>1</td>\n",
       "      <td>3</td>\n",
       "    </tr>\n",
       "    <tr>\n",
       "      <th>2</th>\n",
       "      <td>Henry IV</td>\n",
       "      <td>1.0</td>\n",
       "      <td>5.1.3</td>\n",
       "      <td>GLOUCESTER</td>\n",
       "      <td>Enter KING HENRY, LORD JOHN OF LANCASTER, the ...</td>\n",
       "      <td>5</td>\n",
       "      <td>1</td>\n",
       "      <td>3</td>\n",
       "    </tr>\n",
       "    <tr>\n",
       "      <th>3</th>\n",
       "      <td>Henry IV</td>\n",
       "      <td>1.0</td>\n",
       "      <td>1.1.1</td>\n",
       "      <td>KING HENRY IV</td>\n",
       "      <td>So shaken as we are, so wan with care,</td>\n",
       "      <td>1</td>\n",
       "      <td>1</td>\n",
       "      <td>1</td>\n",
       "    </tr>\n",
       "    <tr>\n",
       "      <th>4</th>\n",
       "      <td>Henry IV</td>\n",
       "      <td>1.0</td>\n",
       "      <td>1.1.2</td>\n",
       "      <td>KING HENRY IV</td>\n",
       "      <td>Find we a time for frighted peace to pant,</td>\n",
       "      <td>1</td>\n",
       "      <td>1</td>\n",
       "      <td>2</td>\n",
       "    </tr>\n",
       "  </tbody>\n",
       "</table>\n",
       "</div>"
      ],
      "text/plain": [
       "       Play  PlayerLinenumber ActSceneLine         Player  \\\n",
       "0  Henry IV               1.0        5.1.3     GLOUCESTER   \n",
       "1  Henry IV               1.0        5.1.3     GLOUCESTER   \n",
       "2  Henry IV               1.0        5.1.3     GLOUCESTER   \n",
       "3  Henry IV               1.0        1.1.1  KING HENRY IV   \n",
       "4  Henry IV               1.0        1.1.2  KING HENRY IV   \n",
       "\n",
       "                                          PlayerLine Act Scene Line  \n",
       "0                                              ACT I   5     1    3  \n",
       "1                       SCENE I. London. The palace.   5     1    3  \n",
       "2  Enter KING HENRY, LORD JOHN OF LANCASTER, the ...   5     1    3  \n",
       "3             So shaken as we are, so wan with care,   1     1    1  \n",
       "4         Find we a time for frighted peace to pant,   1     1    2  "
      ]
     },
     "execution_count": 97,
     "metadata": {},
     "output_type": "execute_result"
    }
   ],
   "source": [
    "df1.head()"
   ]
  },
  {
   "cell_type": "markdown",
   "metadata": {},
   "source": [
    "Since we have 36 unique <b>Plays</b> and this is a categorical variable, it's better to apply <b>onehot encoding</b>. For numerical columns like \n",
    "act,scene and line, we will proceed with <b>StandardScalar</b> and PlayerLine will be exploited later"
   ]
  },
  {
   "cell_type": "code",
   "execution_count": 98,
   "metadata": {},
   "outputs": [
    {
     "data": {
      "text/plain": [
       "Play                 object\n",
       "PlayerLinenumber    float64\n",
       "ActSceneLine         object\n",
       "Player               object\n",
       "PlayerLine           object\n",
       "Act                  object\n",
       "Scene                object\n",
       "Line                 object\n",
       "dtype: object"
      ]
     },
     "execution_count": 98,
     "metadata": {},
     "output_type": "execute_result"
    }
   ],
   "source": [
    "df.dtypes"
   ]
  },
  {
   "cell_type": "code",
   "execution_count": 99,
   "metadata": {},
   "outputs": [],
   "source": [
    "df1.drop('ActSceneLine',axis=1,inplace=True)"
   ]
  },
  {
   "cell_type": "code",
   "execution_count": 100,
   "metadata": {},
   "outputs": [
    {
     "data": {
      "text/html": [
       "<div>\n",
       "<style scoped>\n",
       "    .dataframe tbody tr th:only-of-type {\n",
       "        vertical-align: middle;\n",
       "    }\n",
       "\n",
       "    .dataframe tbody tr th {\n",
       "        vertical-align: top;\n",
       "    }\n",
       "\n",
       "    .dataframe thead th {\n",
       "        text-align: right;\n",
       "    }\n",
       "</style>\n",
       "<table border=\"1\" class=\"dataframe\">\n",
       "  <thead>\n",
       "    <tr style=\"text-align: right;\">\n",
       "      <th></th>\n",
       "      <th>Play</th>\n",
       "      <th>PlayerLinenumber</th>\n",
       "      <th>Player</th>\n",
       "      <th>PlayerLine</th>\n",
       "      <th>Act</th>\n",
       "      <th>Scene</th>\n",
       "      <th>Line</th>\n",
       "    </tr>\n",
       "  </thead>\n",
       "  <tbody>\n",
       "    <tr>\n",
       "      <th>0</th>\n",
       "      <td>Henry IV</td>\n",
       "      <td>1.0</td>\n",
       "      <td>GLOUCESTER</td>\n",
       "      <td>ACT I</td>\n",
       "      <td>5</td>\n",
       "      <td>1</td>\n",
       "      <td>3</td>\n",
       "    </tr>\n",
       "    <tr>\n",
       "      <th>1</th>\n",
       "      <td>Henry IV</td>\n",
       "      <td>1.0</td>\n",
       "      <td>GLOUCESTER</td>\n",
       "      <td>SCENE I. London. The palace.</td>\n",
       "      <td>5</td>\n",
       "      <td>1</td>\n",
       "      <td>3</td>\n",
       "    </tr>\n",
       "    <tr>\n",
       "      <th>2</th>\n",
       "      <td>Henry IV</td>\n",
       "      <td>1.0</td>\n",
       "      <td>GLOUCESTER</td>\n",
       "      <td>Enter KING HENRY, LORD JOHN OF LANCASTER, the ...</td>\n",
       "      <td>5</td>\n",
       "      <td>1</td>\n",
       "      <td>3</td>\n",
       "    </tr>\n",
       "    <tr>\n",
       "      <th>3</th>\n",
       "      <td>Henry IV</td>\n",
       "      <td>1.0</td>\n",
       "      <td>KING HENRY IV</td>\n",
       "      <td>So shaken as we are, so wan with care,</td>\n",
       "      <td>1</td>\n",
       "      <td>1</td>\n",
       "      <td>1</td>\n",
       "    </tr>\n",
       "    <tr>\n",
       "      <th>4</th>\n",
       "      <td>Henry IV</td>\n",
       "      <td>1.0</td>\n",
       "      <td>KING HENRY IV</td>\n",
       "      <td>Find we a time for frighted peace to pant,</td>\n",
       "      <td>1</td>\n",
       "      <td>1</td>\n",
       "      <td>2</td>\n",
       "    </tr>\n",
       "  </tbody>\n",
       "</table>\n",
       "</div>"
      ],
      "text/plain": [
       "       Play  PlayerLinenumber         Player  \\\n",
       "0  Henry IV               1.0     GLOUCESTER   \n",
       "1  Henry IV               1.0     GLOUCESTER   \n",
       "2  Henry IV               1.0     GLOUCESTER   \n",
       "3  Henry IV               1.0  KING HENRY IV   \n",
       "4  Henry IV               1.0  KING HENRY IV   \n",
       "\n",
       "                                          PlayerLine Act Scene Line  \n",
       "0                                              ACT I   5     1    3  \n",
       "1                       SCENE I. London. The palace.   5     1    3  \n",
       "2  Enter KING HENRY, LORD JOHN OF LANCASTER, the ...   5     1    3  \n",
       "3             So shaken as we are, so wan with care,   1     1    1  \n",
       "4         Find we a time for frighted peace to pant,   1     1    2  "
      ]
     },
     "execution_count": 100,
     "metadata": {},
     "output_type": "execute_result"
    }
   ],
   "source": [
    "df1.head()"
   ]
  },
  {
   "cell_type": "code",
   "execution_count": 171,
   "metadata": {},
   "outputs": [],
   "source": [
    "X,Y= df1.drop(columns=['PlayerLine','Player','Act','Scene','Line']),df1['Player']"
   ]
  },
  {
   "cell_type": "code",
   "execution_count": 172,
   "metadata": {},
   "outputs": [],
   "source": [
    "numerical_col=X.select_dtypes(include=['int64','float64']).columns\n",
    "categorical_col=X.select_dtypes(include=['object']).columns"
   ]
  },
  {
   "cell_type": "code",
   "execution_count": 173,
   "metadata": {},
   "outputs": [
    {
     "data": {
      "text/plain": [
       "Index(['Play'], dtype='object')"
      ]
     },
     "execution_count": 173,
     "metadata": {},
     "output_type": "execute_result"
    }
   ],
   "source": [
    "categorical_col"
   ]
  },
  {
   "cell_type": "code",
   "execution_count": 174,
   "metadata": {},
   "outputs": [
    {
     "data": {
      "text/plain": [
       "Index(['PlayerLinenumber'], dtype='object')"
      ]
     },
     "execution_count": 174,
     "metadata": {},
     "output_type": "execute_result"
    }
   ],
   "source": [
    "numerical_col"
   ]
  },
  {
   "cell_type": "code",
   "execution_count": 175,
   "metadata": {},
   "outputs": [],
   "source": [
    "from sklearn.compose import ColumnTransformer\n",
    "from sklearn.preprocessing import MinMaxScaler, OneHotEncoder,LabelEncoder"
   ]
  },
  {
   "cell_type": "code",
   "execution_count": 177,
   "metadata": {},
   "outputs": [],
   "source": [
    "trans_X = [('cat', OneHotEncoder(), categorical_col), ('num', MinMaxScaler(), numerical_col)]\n",
    "col_transform_X = ColumnTransformer(transformers=trans_X)"
   ]
  },
  {
   "cell_type": "code",
   "execution_count": 178,
   "metadata": {},
   "outputs": [
    {
     "name": "stdout",
     "output_type": "stream",
     "text": [
      "[('cat', OneHotEncoder(), Index(['Play'], dtype='object')), ('num', MinMaxScaler(), Index(['PlayerLinenumber'], dtype='object'))]\n"
     ]
    }
   ],
   "source": [
    "print(trans_X)"
   ]
  },
  {
   "cell_type": "code",
   "execution_count": 180,
   "metadata": {},
   "outputs": [
    {
     "data": {
      "text/plain": [
       "[('cat', OneHotEncoder(), Index(['Play'], dtype='object')),\n",
       " ('num', MinMaxScaler(), Index(['PlayerLinenumber'], dtype='object'))]"
      ]
     },
     "execution_count": 180,
     "metadata": {},
     "output_type": "execute_result"
    }
   ],
   "source": [
    "trans_X"
   ]
  },
  {
   "cell_type": "code",
   "execution_count": 181,
   "metadata": {},
   "outputs": [
    {
     "data": {
      "text/html": [
       "<div>\n",
       "<style scoped>\n",
       "    .dataframe tbody tr th:only-of-type {\n",
       "        vertical-align: middle;\n",
       "    }\n",
       "\n",
       "    .dataframe tbody tr th {\n",
       "        vertical-align: top;\n",
       "    }\n",
       "\n",
       "    .dataframe thead th {\n",
       "        text-align: right;\n",
       "    }\n",
       "</style>\n",
       "<table border=\"1\" class=\"dataframe\">\n",
       "  <thead>\n",
       "    <tr style=\"text-align: right;\">\n",
       "      <th></th>\n",
       "      <th>Play</th>\n",
       "      <th>PlayerLinenumber</th>\n",
       "    </tr>\n",
       "  </thead>\n",
       "  <tbody>\n",
       "    <tr>\n",
       "      <th>0</th>\n",
       "      <td>Henry IV</td>\n",
       "      <td>1.0</td>\n",
       "    </tr>\n",
       "    <tr>\n",
       "      <th>1</th>\n",
       "      <td>Henry IV</td>\n",
       "      <td>1.0</td>\n",
       "    </tr>\n",
       "    <tr>\n",
       "      <th>2</th>\n",
       "      <td>Henry IV</td>\n",
       "      <td>1.0</td>\n",
       "    </tr>\n",
       "    <tr>\n",
       "      <th>3</th>\n",
       "      <td>Henry IV</td>\n",
       "      <td>1.0</td>\n",
       "    </tr>\n",
       "    <tr>\n",
       "      <th>4</th>\n",
       "      <td>Henry IV</td>\n",
       "      <td>1.0</td>\n",
       "    </tr>\n",
       "  </tbody>\n",
       "</table>\n",
       "</div>"
      ],
      "text/plain": [
       "       Play  PlayerLinenumber\n",
       "0  Henry IV               1.0\n",
       "1  Henry IV               1.0\n",
       "2  Henry IV               1.0\n",
       "3  Henry IV               1.0\n",
       "4  Henry IV               1.0"
      ]
     },
     "execution_count": 181,
     "metadata": {},
     "output_type": "execute_result"
    }
   ],
   "source": [
    "X.head()"
   ]
  },
  {
   "cell_type": "code",
   "execution_count": 182,
   "metadata": {},
   "outputs": [],
   "source": [
    "from sklearn.model_selection import train_test_split\n",
    "X_train,X_test,Y_train,Y_test=train_test_split(\n",
    "    X,Y, random_state=0)"
   ]
  },
  {
   "cell_type": "code",
   "execution_count": 183,
   "metadata": {},
   "outputs": [],
   "source": [
    "X_train=col_transform_X.fit_transform(X_train)"
   ]
  },
  {
   "cell_type": "code",
   "execution_count": 184,
   "metadata": {},
   "outputs": [
    {
     "data": {
      "text/plain": [
       "<83547x37 sparse matrix of type '<class 'numpy.float64'>'\n",
       "\twith 163232 stored elements in Compressed Sparse Row format>"
      ]
     },
     "execution_count": 184,
     "metadata": {},
     "output_type": "execute_result"
    }
   ],
   "source": [
    "X_train"
   ]
  },
  {
   "cell_type": "code",
   "execution_count": 186,
   "metadata": {},
   "outputs": [],
   "source": [
    "X_test = col_transform.fit_transform(X_test)"
   ]
  },
  {
   "cell_type": "markdown",
   "metadata": {},
   "source": [
    "## Classification"
   ]
  },
  {
   "cell_type": "code",
   "execution_count": 187,
   "metadata": {},
   "outputs": [],
   "source": [
    "from sklearn.tree import DecisionTreeClassifier"
   ]
  },
  {
   "cell_type": "code",
   "execution_count": 188,
   "metadata": {},
   "outputs": [],
   "source": [
    "classifier= DecisionTreeClassifier(criterion='entropy')"
   ]
  },
  {
   "cell_type": "code",
   "execution_count": 189,
   "metadata": {},
   "outputs": [
    {
     "data": {
      "text/plain": [
       "DecisionTreeClassifier(criterion='entropy')"
      ]
     },
     "execution_count": 189,
     "metadata": {},
     "output_type": "execute_result"
    }
   ],
   "source": [
    "classifier.fit(X_train,Y_train)"
   ]
  },
  {
   "cell_type": "code",
   "execution_count": 190,
   "metadata": {},
   "outputs": [],
   "source": [
    "player_pred =  classifier.predict(X_test)"
   ]
  },
  {
   "cell_type": "code",
   "execution_count": 191,
   "metadata": {},
   "outputs": [
    {
     "name": "stdout",
     "output_type": "stream",
     "text": [
      "Accuracy Score on train data:  0.458915341065508\n",
      "Accuracy Score on test data:  0.41024812381054976\n"
     ]
    }
   ],
   "source": [
    "from sklearn.metrics import accuracy_score\n",
    "print('Accuracy Score on train data: ', accuracy_score(y_true=Y_train, y_pred=classifier.predict(X_train)))\n",
    "print('Accuracy Score on test data: ', accuracy_score(y_true=Y_test, y_pred=player_pred))"
   ]
  },
  {
   "cell_type": "markdown",
   "metadata": {},
   "source": [
    "### Using PlayerLine as a feature for vectorizing the text and applying classification model on it"
   ]
  },
  {
   "cell_type": "code",
   "execution_count": 86,
   "metadata": {},
   "outputs": [],
   "source": [
    "#using df1 as dataframe\n",
    "label=df1['Player']\n",
    "d=df1['PlayerLine']"
   ]
  },
  {
   "cell_type": "code",
   "execution_count": 97,
   "metadata": {},
   "outputs": [
    {
     "data": {
      "text/plain": [
       "{0: 'A Lord',\n",
       " 1: 'A Patrician',\n",
       " 2: 'A Player',\n",
       " 3: 'AARON',\n",
       " 4: 'ABERGAVENNY',\n",
       " 5: 'ABHORSON',\n",
       " 6: 'ABRAHAM',\n",
       " 7: 'ACHILLES',\n",
       " 8: 'ADAM',\n",
       " 9: 'ADRIAN',\n",
       " 10: 'ADRIANA',\n",
       " 11: 'ADRIANO DE ARMADO',\n",
       " 12: 'AEGEON',\n",
       " 13: 'AEMELIA',\n",
       " 14: 'AEMILIUS',\n",
       " 15: 'AENEAS',\n",
       " 16: 'AEdile',\n",
       " 17: 'AGAMEMNON',\n",
       " 18: 'AGRIPPA',\n",
       " 19: 'AJAX',\n",
       " 20: 'ALBANY',\n",
       " 21: 'ALCIBIADES',\n",
       " 22: 'ALENCON',\n",
       " 23: 'ALEXANDER',\n",
       " 24: 'ALEXAS',\n",
       " 25: 'ALICE',\n",
       " 26: 'ALL',\n",
       " 27: 'ALONSO',\n",
       " 28: 'AMIENS',\n",
       " 29: 'ANDROMACHE',\n",
       " 30: 'ANGELO',\n",
       " 31: 'ANGUS',\n",
       " 32: 'ANNE',\n",
       " 33: 'ANNE PAGE',\n",
       " 34: 'ANOTHER',\n",
       " 35: 'ANTIGONUS',\n",
       " 36: 'ANTIOCHUS',\n",
       " 37: 'ANTIPHOLUS',\n",
       " 38: 'ANTONIO',\n",
       " 39: 'ANTONY',\n",
       " 40: 'APEMANTUS',\n",
       " 41: 'ARCHBISHOP OF YORK',\n",
       " 42: 'ARCHIDAMUS',\n",
       " 43: 'ARIEL',\n",
       " 44: 'ARMADO',\n",
       " 45: 'ARRAGON',\n",
       " 46: 'ARTEMIDORUS',\n",
       " 47: 'ARTHUR',\n",
       " 48: 'ARVIRAGUS',\n",
       " 49: 'ATTENDANT',\n",
       " 50: 'AUDREY',\n",
       " 51: 'AUFIDIUS',\n",
       " 52: 'AUSTRIA',\n",
       " 53: 'AUTOLYCUS',\n",
       " 54: 'Abbot',\n",
       " 55: 'All',\n",
       " 56: 'All Citizens',\n",
       " 57: 'All Conspirators',\n",
       " 58: 'All Ladies',\n",
       " 59: 'All Lords',\n",
       " 60: 'All Servants',\n",
       " 61: 'All The Lords',\n",
       " 62: 'All The People',\n",
       " 63: 'All the Goths',\n",
       " 64: 'Apothecary',\n",
       " 65: 'Attendant',\n",
       " 66: 'Attendants',\n",
       " 67: 'BAGOT',\n",
       " 68: 'BALTHASAR',\n",
       " 69: 'BALTHAZAR',\n",
       " 70: 'BANQUO',\n",
       " 71: 'BAPTISTA',\n",
       " 72: 'BARDOLPH',\n",
       " 73: 'BARNARDINE',\n",
       " 74: 'BASSANIO',\n",
       " 75: 'BASSET',\n",
       " 76: 'BASSIANUS',\n",
       " 77: 'BASTARD',\n",
       " 78: 'BASTARD OF ORLEANS',\n",
       " 79: 'BATES',\n",
       " 80: 'BEATRICE',\n",
       " 81: 'BEDFORD',\n",
       " 82: 'BELARIUS',\n",
       " 83: 'BENEDICK',\n",
       " 84: 'BENVOLIO',\n",
       " 85: 'BERNARDO',\n",
       " 86: 'BERTRAM',\n",
       " 87: 'BEVIS',\n",
       " 88: 'BIANCA',\n",
       " 89: 'BIGOT',\n",
       " 90: 'BIONDELLO',\n",
       " 91: 'BIRON',\n",
       " 92: 'BISHOP OF CARLISLE',\n",
       " 93: 'BISHOP OF ELY',\n",
       " 94: 'BLANCH',\n",
       " 95: 'BLUNT',\n",
       " 96: 'BOLINGBROKE',\n",
       " 97: 'BONA',\n",
       " 98: 'BORACHIO',\n",
       " 99: 'BOTH',\n",
       " 100: 'BOTTOM',\n",
       " 101: 'BOULT',\n",
       " 102: 'BOURBON',\n",
       " 103: 'BOYET',\n",
       " 104: 'BRABANTIO',\n",
       " 105: 'BRAKENBURY',\n",
       " 106: 'BRANDON',\n",
       " 107: 'BRUTUS',\n",
       " 108: 'BUCKINGHAM',\n",
       " 109: 'BURGUNDY',\n",
       " 110: 'BUSHY',\n",
       " 111: 'Banditti',\n",
       " 112: 'Bawd',\n",
       " 113: 'Beadle',\n",
       " 114: 'Boatswain',\n",
       " 115: 'Both',\n",
       " 116: 'Both Citizens',\n",
       " 117: 'Both Murderers',\n",
       " 118: 'Both Tribunes',\n",
       " 119: 'Boy',\n",
       " 120: 'CADE',\n",
       " 121: 'CAESAR',\n",
       " 122: 'CAITHNESS',\n",
       " 123: 'CAIUS LUCIUS',\n",
       " 124: 'CALCHAS',\n",
       " 125: 'CALIBAN',\n",
       " 126: 'CALPURNIA',\n",
       " 127: 'CAMBRIDGE',\n",
       " 128: 'CAMILLO',\n",
       " 129: 'CANIDIUS',\n",
       " 130: 'CANTERBURY',\n",
       " 131: 'CAPHIS',\n",
       " 132: 'CAPUCIUS',\n",
       " 133: 'CAPULET',\n",
       " 134: 'CARDINAL',\n",
       " 135: 'CARDINAL CAMPEIUS',\n",
       " 136: 'CARDINAL PANDULPH',\n",
       " 137: 'CARDINAL WOLSEY',\n",
       " 138: 'CASCA',\n",
       " 139: 'CASSANDRA',\n",
       " 140: 'CASSIO',\n",
       " 141: 'CASSIUS',\n",
       " 142: 'CATESBY',\n",
       " 143: 'CATO',\n",
       " 144: 'CELIA',\n",
       " 145: 'CERES',\n",
       " 146: 'CERIMON',\n",
       " 147: 'CHARLES',\n",
       " 148: 'CHARMIAN',\n",
       " 149: 'CHATILLON',\n",
       " 150: 'CHIRON',\n",
       " 151: 'CHRISTOPHER',\n",
       " 152: 'CICERO',\n",
       " 153: 'CINNA',\n",
       " 154: 'CINNA THE POET',\n",
       " 155: 'CLARENCE',\n",
       " 156: 'CLAUDIO',\n",
       " 157: 'CLAUDIUS',\n",
       " 158: 'CLEOMENES',\n",
       " 159: 'CLEON',\n",
       " 160: 'CLEOPATRA',\n",
       " 161: 'CLERK',\n",
       " 162: 'CLIFFORD',\n",
       " 163: 'CLITUS',\n",
       " 164: 'CLOTEN',\n",
       " 165: 'COBWEB',\n",
       " 166: 'COMINIUS',\n",
       " 167: 'CONRADE',\n",
       " 168: 'CONSTANCE',\n",
       " 169: 'CORDELIA',\n",
       " 170: 'CORIN',\n",
       " 171: 'CORIOLANUS',\n",
       " 172: 'CORNELIUS',\n",
       " 173: 'CORNWALL',\n",
       " 174: 'COSTARD',\n",
       " 175: 'COUNTESS',\n",
       " 176: 'COURT',\n",
       " 177: 'CRANMER',\n",
       " 178: 'CRESSIDA',\n",
       " 179: 'CROMWELL',\n",
       " 180: 'CURAN',\n",
       " 181: 'CURIO',\n",
       " 182: 'CURTIS',\n",
       " 183: 'CYMBELINE',\n",
       " 184: 'Captain',\n",
       " 185: 'Carrier',\n",
       " 186: 'Chamberlain',\n",
       " 187: 'Chancellor',\n",
       " 188: 'Children',\n",
       " 189: 'Chorus',\n",
       " 190: 'Citizen',\n",
       " 191: 'Citizens',\n",
       " 192: 'Clerk',\n",
       " 193: 'Clown',\n",
       " 194: 'Commons',\n",
       " 195: 'Constable',\n",
       " 196: 'Courtezan',\n",
       " 197: 'Crier',\n",
       " 198: 'Cupid',\n",
       " 199: 'DARDANIUS',\n",
       " 200: 'DAUPHIN',\n",
       " 201: 'DECIUS BRUTUS',\n",
       " 202: 'DEIPHOBUS',\n",
       " 203: 'DEMETRIUS',\n",
       " 204: 'DENNIS',\n",
       " 205: 'DENNY',\n",
       " 206: 'DERBY',\n",
       " 207: 'DERCETAS',\n",
       " 208: 'DESDEMONA',\n",
       " 209: 'DIANA',\n",
       " 210: 'DICK',\n",
       " 211: 'DIOMEDES',\n",
       " 212: 'DION',\n",
       " 213: 'DIONYZA',\n",
       " 214: 'DOCTOR BUTTS',\n",
       " 215: 'DOCTOR CAIUS',\n",
       " 216: 'DOGBERRY',\n",
       " 217: 'DOLABELLA',\n",
       " 218: 'DOMITIUS ENOBARBUS',\n",
       " 219: 'DON JOHN',\n",
       " 220: 'DON PEDRO',\n",
       " 221: 'DONALBAIN',\n",
       " 222: 'DORCAS',\n",
       " 223: 'DORSET',\n",
       " 224: 'DROMIO OF EPHESUS',\n",
       " 225: 'DROMIO OF SYRACUSE',\n",
       " 226: 'DUCHESS',\n",
       " 227: 'DUCHESS OF YORK',\n",
       " 228: 'DUKE',\n",
       " 229: 'DUKE FREDERICK',\n",
       " 230: 'DUKE OF AUMERLE',\n",
       " 231: 'DUKE OF SURREY',\n",
       " 232: 'DUKE OF VENICE',\n",
       " 233: 'DUKE OF YORK',\n",
       " 234: 'DUKE ORSINO',\n",
       " 235: 'DUKE SENIOR',\n",
       " 236: 'DUKE SOLINUS',\n",
       " 237: 'DUKE VINCENTIO',\n",
       " 238: 'DULL',\n",
       " 239: 'DUMAIN',\n",
       " 240: 'DUNCAN',\n",
       " 241: 'Danes',\n",
       " 242: 'Daughter',\n",
       " 243: 'Doctor',\n",
       " 244: 'EARL OF DOUGLAS',\n",
       " 245: 'EARL OF SALISBURY',\n",
       " 246: 'EARL OF WORCESTER',\n",
       " 247: 'EDGAR',\n",
       " 248: 'EDMUND',\n",
       " 249: 'EDWARD',\n",
       " 250: 'EGEUS',\n",
       " 251: 'EGLAMOUR',\n",
       " 252: 'ELBOW',\n",
       " 253: 'ELINOR',\n",
       " 254: 'ELY',\n",
       " 255: 'EMILIA',\n",
       " 256: 'EROS',\n",
       " 257: 'ERPINGHAM',\n",
       " 258: 'ESCALUS',\n",
       " 259: 'ESCANES',\n",
       " 260: 'ESSEX',\n",
       " 261: 'EUPHRONIUS',\n",
       " 262: 'EXETER',\n",
       " 263: 'EXTON',\n",
       " 264: 'Egyptian',\n",
       " 265: 'English Herald',\n",
       " 266: 'FABIAN',\n",
       " 267: 'FALSTAFF',\n",
       " 268: 'FASTOLFE',\n",
       " 269: 'FENTON',\n",
       " 270: 'FERDINAND',\n",
       " 271: 'FLAMINIUS',\n",
       " 272: 'FLAVIUS',\n",
       " 273: 'FLEANCE',\n",
       " 274: 'FLORIZEL',\n",
       " 275: 'FLUELLEN',\n",
       " 276: 'FLUTE',\n",
       " 277: 'FORD',\n",
       " 278: 'FRANCIS',\n",
       " 279: 'FRANCISCA',\n",
       " 280: 'FRANCISCO',\n",
       " 281: 'FRENCH KING',\n",
       " 282: 'FRIAR FRANCIS',\n",
       " 283: 'FRIAR JOHN',\n",
       " 284: 'FRIAR LAURENCE',\n",
       " 285: 'FRIAR PETER',\n",
       " 286: 'FRIAR THOMAS',\n",
       " 287: 'FROTH',\n",
       " 288: 'Fairy',\n",
       " 289: 'Father',\n",
       " 290: 'Fifth Citizen',\n",
       " 291: 'First Ambassador',\n",
       " 292: 'First Apparition',\n",
       " 293: 'First Attendant',\n",
       " 294: 'First Bandit',\n",
       " 295: 'First Brother',\n",
       " 296: 'First Captain',\n",
       " 297: 'First Carrier',\n",
       " 298: 'First Citizen',\n",
       " 299: 'First Clown',\n",
       " 300: 'First Commoner',\n",
       " 301: 'First Conspirator',\n",
       " 302: 'First Executioner',\n",
       " 303: 'First Fisherman',\n",
       " 304: 'First Gaoler',\n",
       " 305: 'First Gentleman',\n",
       " 306: 'First Goth',\n",
       " 307: 'First Guard',\n",
       " 308: 'First Herald',\n",
       " 309: 'First Huntsman',\n",
       " 310: 'First Keeper',\n",
       " 311: 'First Knight',\n",
       " 312: 'First Lady',\n",
       " 313: 'First Lord',\n",
       " 314: 'First Merchant',\n",
       " 315: 'First Messenger',\n",
       " 316: 'First Murder',\n",
       " 317: 'First Murderer',\n",
       " 318: 'First Musician',\n",
       " 319: 'First Neighbour',\n",
       " 320: 'First Officer',\n",
       " 321: 'First Outlaw',\n",
       " 322: 'First Page',\n",
       " 323: 'First Petitioner',\n",
       " 324: 'First Pirate',\n",
       " 325: 'First Player',\n",
       " 326: 'First Priest',\n",
       " 327: 'First Roman',\n",
       " 328: 'First Sailor',\n",
       " 329: 'First Secretary',\n",
       " 330: 'First Senator',\n",
       " 331: 'First Sentinel',\n",
       " 332: 'First Servant',\n",
       " 333: 'First Servingman',\n",
       " 334: 'First Soldier',\n",
       " 335: 'First Stranger',\n",
       " 336: 'First Traveller',\n",
       " 337: 'First Tribune',\n",
       " 338: 'First Warder',\n",
       " 339: 'First Watchman',\n",
       " 340: 'First Witch',\n",
       " 341: 'Fool',\n",
       " 342: 'Forester',\n",
       " 343: 'Fourth Citizen',\n",
       " 344: 'Fourth Gentleman',\n",
       " 345: 'Fourth Lord',\n",
       " 346: 'Fourth Messenger',\n",
       " 347: 'Fourth Soldier',\n",
       " 348: 'French Herald',\n",
       " 349: 'French Soldier',\n",
       " 350: 'Frenchman',\n",
       " 351: 'GADSHILL',\n",
       " 352: 'GALLUS',\n",
       " 353: 'GARDENER',\n",
       " 354: 'GARDINER',\n",
       " 355: 'GARGRAVE',\n",
       " 356: 'GENTLEMEN',\n",
       " 357: 'GEORGE',\n",
       " 358: 'GHOST',\n",
       " 359: 'GLANSDALE',\n",
       " 360: 'GLENDOWER',\n",
       " 361: 'GLOUCESTER',\n",
       " 362: 'GOBBO',\n",
       " 363: 'GONERIL',\n",
       " 364: 'GONZALO',\n",
       " 365: 'GOVERNOR',\n",
       " 366: 'GOWER',\n",
       " 367: 'GRANDPRE',\n",
       " 368: 'GRATIANO',\n",
       " 369: 'GREEN',\n",
       " 370: 'GREGORY',\n",
       " 371: 'GREMIO',\n",
       " 372: 'GREY',\n",
       " 373: 'GRIFFITH',\n",
       " 374: 'GRUMIO',\n",
       " 375: 'GUIDERIUS',\n",
       " 376: 'GUILDENSTERN',\n",
       " 377: 'GUILDFORD',\n",
       " 378: 'GURNEY',\n",
       " 379: 'Gaoler',\n",
       " 380: 'Gardener',\n",
       " 381: 'Garter',\n",
       " 382: 'General',\n",
       " 383: 'Gentleman',\n",
       " 384: 'Gentlewoman',\n",
       " 385: 'Ghost',\n",
       " 386: 'Ghost of CLARENCE',\n",
       " 387: 'Ghost of GREY',\n",
       " 388: 'Ghost of HASTINGS',\n",
       " 389: 'Ghost of LADY ANNE',\n",
       " 390: 'Ghost of RIVERS',\n",
       " 391: 'Ghost of VAUGHAN',\n",
       " 392: 'Girl',\n",
       " 393: 'Groom',\n",
       " 394: 'Guard',\n",
       " 395: 'HAMLET',\n",
       " 396: 'HASTINGS',\n",
       " 397: 'HECATE',\n",
       " 398: 'HECTOR',\n",
       " 399: 'HELEN',\n",
       " 400: 'HELENA',\n",
       " 401: 'HELENUS',\n",
       " 402: 'HELICANUS',\n",
       " 403: 'HENRY BOLINGBROKE',\n",
       " 404: 'HENRY PERCY',\n",
       " 405: 'HERBERT',\n",
       " 406: 'HERMIA',\n",
       " 407: 'HERMIONE',\n",
       " 408: 'HERNIA',\n",
       " 409: 'HERO',\n",
       " 410: 'HIPPOLYTA',\n",
       " 411: 'HOLLAND',\n",
       " 412: 'HOLOFERNES',\n",
       " 413: 'HORATIO',\n",
       " 414: 'HORNER',\n",
       " 415: 'HORTENSIA',\n",
       " 416: 'HORTENSIO',\n",
       " 417: 'HORTENSIUS',\n",
       " 418: 'HOTSPUR',\n",
       " 419: 'HUBERT',\n",
       " 420: 'HUME',\n",
       " 421: 'HYMEN',\n",
       " 422: 'Haberdasher',\n",
       " 423: 'Herald',\n",
       " 424: 'Host',\n",
       " 425: 'Hostess',\n",
       " 426: 'Huntsman',\n",
       " 427: 'IACHIMO',\n",
       " 428: 'IAGO',\n",
       " 429: 'IDEN',\n",
       " 430: 'IMOGEN',\n",
       " 431: 'IRAS',\n",
       " 432: 'IRIS',\n",
       " 433: 'ISABELLA',\n",
       " 434: 'JAMY',\n",
       " 435: 'JAQUENETTA',\n",
       " 436: 'JAQUES',\n",
       " 437: 'JAQUES DE BOYS',\n",
       " 438: 'JESSICA',\n",
       " 439: 'JOAN LA PUCELLE',\n",
       " 440: 'JOHN MORTIMER',\n",
       " 441: 'JOHN OF GAUNT',\n",
       " 442: 'JOHN TALBOT',\n",
       " 443: 'JOSEPH',\n",
       " 444: 'JULIA',\n",
       " 445: 'JULIET',\n",
       " 446: 'JUNO',\n",
       " 447: 'Jeweller',\n",
       " 448: 'Jupiter',\n",
       " 449: 'Justice',\n",
       " 450: 'KATARINA',\n",
       " 451: 'KATHARINA',\n",
       " 452: 'KATHARINE',\n",
       " 453: 'KENT',\n",
       " 454: 'KING',\n",
       " 455: 'KING CLAUDIUS',\n",
       " 456: 'KING EDWARD IV',\n",
       " 457: 'KING HENRY IV',\n",
       " 458: 'KING HENRY V',\n",
       " 459: 'KING HENRY VI',\n",
       " 460: 'KING HENRY VIII',\n",
       " 461: 'KING JOHN',\n",
       " 462: 'KING LEAR',\n",
       " 463: 'KING LEWIS XI',\n",
       " 464: 'KING OF FRANCE',\n",
       " 465: 'KING PHILIP',\n",
       " 466: 'KING RICHARD II',\n",
       " 467: 'KING RICHARD III',\n",
       " 468: 'KNIGHTS',\n",
       " 469: 'Keeper',\n",
       " 470: 'Knight',\n",
       " 471: 'Knights',\n",
       " 472: 'LADY  CAPULET',\n",
       " 473: 'LADY ANNE',\n",
       " 474: 'LADY CAPULET',\n",
       " 475: 'LADY FAULCONBRIDGE',\n",
       " 476: 'LADY GREY',\n",
       " 477: 'LADY MACBETH',\n",
       " 478: 'LADY MACDUFF',\n",
       " 479: 'LADY MONTAGUE',\n",
       " 480: 'LADY PERCY',\n",
       " 481: 'LAERTES',\n",
       " 482: 'LAFEU',\n",
       " 483: 'LANCASTER',\n",
       " 484: 'LARTIUS',\n",
       " 485: 'LAUNCE',\n",
       " 486: 'LAUNCELOT',\n",
       " 487: 'LAVINIA',\n",
       " 488: 'LE BEAU',\n",
       " 489: 'LEAR',\n",
       " 490: 'LENNOX',\n",
       " 491: 'LEONARDO',\n",
       " 492: 'LEONATO',\n",
       " 493: 'LEONINE',\n",
       " 494: 'LEONTES',\n",
       " 495: 'LEPIDUS',\n",
       " 496: 'LEWIS',\n",
       " 497: 'LIGARIUS',\n",
       " 498: 'LINCOLN',\n",
       " 499: 'LODOVICO',\n",
       " 500: 'LONGAVILLE',\n",
       " 501: 'LORD BERKELEY',\n",
       " 502: 'LORD FITZWATER',\n",
       " 503: 'LORD POLONIUS',\n",
       " 504: 'LORD ROSS',\n",
       " 505: 'LORD STANLEY',\n",
       " 506: 'LORD WILLOUGHBY',\n",
       " 507: 'LORDS',\n",
       " 508: 'LORENZO',\n",
       " 509: 'LOVEL',\n",
       " 510: 'LOVELL',\n",
       " 511: 'LUCE',\n",
       " 512: 'LUCENTIO',\n",
       " 513: 'LUCETTA',\n",
       " 514: 'LUCIANA',\n",
       " 515: 'LUCIANUS',\n",
       " 516: 'LUCILIUS',\n",
       " 517: 'LUCIO',\n",
       " 518: 'LUCIUS',\n",
       " 519: 'LUCULLUS',\n",
       " 520: 'LUCY',\n",
       " 521: 'LYCHORIDA',\n",
       " 522: 'LYSANDER',\n",
       " 523: 'LYSIMACHUS',\n",
       " 524: 'Lady',\n",
       " 525: 'Lawyer',\n",
       " 526: 'Legate',\n",
       " 527: 'Lieutenant',\n",
       " 528: 'Lion',\n",
       " 529: 'Lord',\n",
       " 530: 'Lord Marshal',\n",
       " 531: 'Lord Mayor',\n",
       " 532: 'Lords',\n",
       " 533: 'MACBETH',\n",
       " 534: 'MACDUFF',\n",
       " 535: 'MACMORRIS',\n",
       " 536: 'MALCOLM',\n",
       " 537: 'MALVOLIO',\n",
       " 538: 'MAMILLIUS',\n",
       " 539: 'MARCELLUS',\n",
       " 540: 'MARCIUS',\n",
       " 541: 'MARCUS',\n",
       " 542: 'MARCUS ANDRONICUS',\n",
       " 543: 'MARDIAN',\n",
       " 544: 'MARGARELON',\n",
       " 545: 'MARGARET',\n",
       " 546: 'MARGARET JOURDAIN',\n",
       " 547: 'MARIA',\n",
       " 548: 'MARIANA',\n",
       " 549: 'MARINA',\n",
       " 550: 'MARK ANTONY',\n",
       " 551: 'MARTIUS',\n",
       " 552: 'MARULLUS',\n",
       " 553: 'MECAENAS',\n",
       " 554: 'MELUN',\n",
       " 555: 'MENAS',\n",
       " 556: 'MENECRATES',\n",
       " 557: 'MENELAUS',\n",
       " 558: 'MENENIUS',\n",
       " 559: 'MENTEITH',\n",
       " 560: 'MERCADE',\n",
       " 561: 'MERCUTIO',\n",
       " 562: 'MESSALA',\n",
       " 563: 'METELLUS CIMBER',\n",
       " 564: 'MICHAEL',\n",
       " 565: 'MIRANDA',\n",
       " 566: 'MISTRESS FORD',\n",
       " 567: 'MISTRESS OVERDONE',\n",
       " 568: 'MISTRESS PAGE',\n",
       " 569: 'MISTRESS QUICKLY',\n",
       " 570: 'MONTAGUE',\n",
       " 571: 'MONTANO',\n",
       " 572: 'MONTJOY',\n",
       " 573: 'MOPSA',\n",
       " 574: 'MOROCCO',\n",
       " 575: 'MORTIMER',\n",
       " 576: 'MOTH',\n",
       " 577: 'MUSTARDSEED',\n",
       " 578: 'MUTIUS',\n",
       " 579: 'MYRMIDONS',\n",
       " 580: 'Man',\n",
       " 581: 'Mariner',\n",
       " 582: 'Mariners',\n",
       " 583: 'Marshal',\n",
       " 584: 'Master',\n",
       " 585: 'Mayor',\n",
       " 586: 'Merchant',\n",
       " 587: 'Messenger',\n",
       " 588: 'Moonshine',\n",
       " 589: 'Mother',\n",
       " 590: 'Musician',\n",
       " 591: 'NATHANIEL',\n",
       " 592: 'NERISSA',\n",
       " 593: 'NESTOR',\n",
       " 594: 'NICHOLAS',\n",
       " 595: 'NORFOLK',\n",
       " 596: 'NORTHUMBERLAND',\n",
       " 597: 'NURSE',\n",
       " 598: 'NYM',\n",
       " 599: 'Nobleman',\n",
       " 600: 'Nurse',\n",
       " 601: 'OBERON',\n",
       " 602: 'OCTAVIA',\n",
       " 603: 'OCTAVIUS',\n",
       " 604: 'OCTAVIUS CAESAR',\n",
       " 605: 'OF AUVERGNE',\n",
       " 606: 'OF EPHESUS',\n",
       " 607: 'OF SYRACUSE',\n",
       " 608: 'OF WINCHESTER',\n",
       " 609: 'OLIVER',\n",
       " 610: 'OLIVIA',\n",
       " 611: 'OPHELIA',\n",
       " 612: 'ORLANDO',\n",
       " 613: 'ORLEANS',\n",
       " 614: 'OSRIC',\n",
       " 615: 'OSWALD',\n",
       " 616: 'OTHELLO',\n",
       " 617: 'OXFORD',\n",
       " 618: 'Officer',\n",
       " 619: 'Old Athenian',\n",
       " 620: 'Old Lady',\n",
       " 621: 'Old Man',\n",
       " 622: 'Ostler',\n",
       " 623: 'Outlaws',\n",
       " 624: 'PAGE',\n",
       " 625: 'PANDARUS',\n",
       " 626: 'PANTHINO',\n",
       " 627: 'PARIS',\n",
       " 628: 'PAROLLES',\n",
       " 629: 'PATIENCE',\n",
       " 630: 'PATROCLUS',\n",
       " 631: 'PAULINA',\n",
       " 632: 'PEASEBLOSSOM',\n",
       " 633: 'PEMBROKE',\n",
       " 634: 'PERDITA',\n",
       " 635: 'PERICLES',\n",
       " 636: 'PETER',\n",
       " 637: 'PETO',\n",
       " 638: 'PETRUCHIO',\n",
       " 639: 'PHEBE',\n",
       " 640: 'PHILARIO',\n",
       " 641: 'PHILEMON',\n",
       " 642: 'PHILIP',\n",
       " 643: 'PHILO',\n",
       " 644: 'PHILOSTRATE',\n",
       " 645: 'PHILOTUS',\n",
       " 646: 'PHRYNIA',\n",
       " 647: 'PINCH',\n",
       " 648: 'PINDARUS',\n",
       " 649: 'PISANIO',\n",
       " 650: 'PISTOL',\n",
       " 651: 'PLANTAGENET',\n",
       " 652: 'POINS',\n",
       " 653: 'POLIXENES',\n",
       " 654: 'POMPEY',\n",
       " 655: 'POMPHEY',\n",
       " 656: 'POPILIUS',\n",
       " 657: 'PORTIA',\n",
       " 658: 'POSTHUMUS LEONATUS',\n",
       " 659: 'PRIAM',\n",
       " 660: 'PRINCE',\n",
       " 661: 'PRINCE EDWARD',\n",
       " 662: 'PRINCE FORTINBRAS',\n",
       " 663: 'PRINCE HENRY',\n",
       " 664: 'PRINCESS',\n",
       " 665: 'PROCULEIUS',\n",
       " 666: 'PROSPERO',\n",
       " 667: 'PROTEUS',\n",
       " 668: 'PUBLIUS',\n",
       " 669: 'PUCK',\n",
       " 670: 'Page',\n",
       " 671: 'Painter',\n",
       " 672: 'Pandar',\n",
       " 673: 'Pedant',\n",
       " 674: 'Player King',\n",
       " 675: 'Player Queen',\n",
       " 676: 'Players',\n",
       " 677: 'Poet',\n",
       " 678: 'Porter',\n",
       " 679: 'Post',\n",
       " 680: 'Posthumus Leonatus',\n",
       " 681: 'Priest',\n",
       " 682: 'Prologue',\n",
       " 683: 'Provost',\n",
       " 684: 'Pursuivant',\n",
       " 685: 'Pyramus',\n",
       " 686: 'QUEEN',\n",
       " 687: 'QUEEN ELINOR',\n",
       " 688: 'QUEEN ELIZABETH',\n",
       " 689: 'QUEEN GERTRUDE',\n",
       " 690: 'QUEEN ISABEL',\n",
       " 691: 'QUEEN KATHARINE',\n",
       " 692: 'QUEEN MARGARET',\n",
       " 693: 'QUINCE',\n",
       " 694: 'QUINTUS',\n",
       " 695: 'RAMBURES',\n",
       " 696: 'RATCLIFF',\n",
       " 697: 'REGAN',\n",
       " 698: 'REIGNIER',\n",
       " 699: 'REYNALDO',\n",
       " 700: 'RICHARD',\n",
       " 701: 'RICHMOND',\n",
       " 702: 'RIVERS',\n",
       " 703: 'ROBERT',\n",
       " 704: 'ROBIN',\n",
       " 705: 'RODERIGO',\n",
       " 706: 'ROMEO',\n",
       " 707: 'ROSALIND',\n",
       " 708: 'ROSALINE',\n",
       " 709: 'ROSENCRANTZ',\n",
       " 710: 'ROSS',\n",
       " 711: 'RUGBY',\n",
       " 712: 'RUTLAND',\n",
       " 713: 'Roman',\n",
       " 714: 'SALANIO',\n",
       " 715: 'SALARINO',\n",
       " 716: 'SALERIO',\n",
       " 717: 'SALISBURY',\n",
       " 718: 'SAMPSON',\n",
       " 719: 'SANDS',\n",
       " 720: 'SATURNINUS',\n",
       " 721: 'SAY',\n",
       " 722: 'SCALES',\n",
       " 723: 'SCARUS',\n",
       " 724: 'SCROOP',\n",
       " 725: 'SEBASTIAN',\n",
       " 726: 'SELEUCUS',\n",
       " 727: 'SEMPRONIUS',\n",
       " 728: 'SERVILIUS',\n",
       " 729: 'SEYTON',\n",
       " 730: 'SHALLOW',\n",
       " 731: 'SHYLOCK',\n",
       " 732: 'SICINIUS',\n",
       " 733: 'SILIUS',\n",
       " 734: 'SILVIA',\n",
       " 735: 'SILVIUS',\n",
       " 736: 'SIMONIDES',\n",
       " 737: 'SIMPCOX',\n",
       " 738: 'SIMPLE',\n",
       " 739: 'SIR ANDREW',\n",
       " 740: 'SIR HUGH EVANS',\n",
       " 741: 'SIR HUMPHREY',\n",
       " 742: 'SIR MICHAEL',\n",
       " 743: 'SIR NATHANIEL',\n",
       " 744: 'SIR OLIVER MARTEXT',\n",
       " 745: 'SIR STEPHEN SCROOP',\n",
       " 746: 'SIR TOBY BELCH',\n",
       " 747: 'SIR WALTER BLUNT',\n",
       " 748: 'SIWARD',\n",
       " 749: 'SLENDER',\n",
       " 750: 'SLY',\n",
       " 751: 'SMITH',\n",
       " 752: 'SNOUT',\n",
       " 753: 'SNUG',\n",
       " 754: 'SOMERSET',\n",
       " 755: 'SPEED',\n",
       " 756: 'STANLEY',\n",
       " 757: 'STARVELING',\n",
       " 758: 'STEPHANO',\n",
       " 759: 'STRATO',\n",
       " 760: 'SU FFOLK',\n",
       " 761: 'SUFFOLK',\n",
       " 762: 'SURREY',\n",
       " 763: 'Sailor',\n",
       " 764: 'Scout',\n",
       " 765: 'Scribe',\n",
       " 766: 'Scrivener',\n",
       " 767: 'Second Apparition',\n",
       " 768: 'Second Attendant',\n",
       " 769: 'Second Bandit',\n",
       " 770: 'Second Brother',\n",
       " 771: 'Second Captain',\n",
       " 772: 'Second Capulet',\n",
       " 773: 'Second Carrier',\n",
       " 774: 'Second Citizen',\n",
       " 775: 'Second Clown',\n",
       " 776: 'Second Commoner',\n",
       " 777: 'Second Conspirator',\n",
       " 778: 'Second Fisherman',\n",
       " 779: 'Second Gaoler',\n",
       " 780: 'Second Gentleman',\n",
       " 781: 'Second Gentlemen',\n",
       " 782: 'Second Goth',\n",
       " 783: 'Second Guard',\n",
       " 784: 'Second Herald',\n",
       " 785: 'Second Huntsman',\n",
       " 786: 'Second Keeper',\n",
       " 787: 'Second Knight',\n",
       " 788: 'Second Lady',\n",
       " 789: 'Second Lord',\n",
       " 790: 'Second Merchant',\n",
       " 791: 'Second Messenger',\n",
       " 792: 'Second Murderer',\n",
       " 793: 'Second Musician',\n",
       " 794: 'Second Neighbour',\n",
       " 795: 'Second Officer',\n",
       " 796: 'Second Outlaw',\n",
       " 797: 'Second Page',\n",
       " 798: 'Second Patrician',\n",
       " 799: 'Second Petitioner',\n",
       " 800: 'Second Pirate',\n",
       " 801: 'Second Roman',\n",
       " 802: 'Second Sailor',\n",
       " 803: 'Second Senator',\n",
       " 804: 'Second Servant',\n",
       " 805: 'Second Servingman',\n",
       " 806: 'Second Soldier',\n",
       " 807: 'Second Stranger',\n",
       " 808: 'Second Warder',\n",
       " 809: 'Second Watchman',\n",
       " 810: 'Second Witch',\n",
       " 811: 'Second murderer',\n",
       " 812: 'Senator',\n",
       " 813: 'Senators',\n",
       " 814: 'Sentinels',\n",
       " 815: 'Sergeant',\n",
       " 816: 'Servant',\n",
       " 817: 'Servants',\n",
       " 818: 'Seventh Citizen',\n",
       " 819: 'Several Citizens',\n",
       " 820: 'Sexton',\n",
       " 821: 'Shepard',\n",
       " 822: 'Shepherd',\n",
       " 823: 'Sheriff',\n",
       " 824: 'Sicilius Leonatus',\n",
       " 825: 'Sixth Citizen',\n",
       " 826: 'Soldier',\n",
       " 827: 'Some Speak',\n",
       " 828: 'Son',\n",
       " 829: 'Soothsayer',\n",
       " 830: 'Spirit',\n",
       " 831: 'Steward',\n",
       " 832: 'Surveyor',\n",
       " 833: 'TALBOT',\n",
       " 834: 'TAMORA',\n",
       " 835: 'THAISA',\n",
       " 836: 'THALIARD',\n",
       " 837: 'THERSITES',\n",
       " 838: 'THESEUS',\n",
       " 839: 'THOMAS MOWBRAY',\n",
       " 840: 'THURIO',\n",
       " 841: 'THYREUS',\n",
       " 842: 'TIMANDRA',\n",
       " 843: 'TIMON',\n",
       " 844: 'TITANIA',\n",
       " 845: 'TITINIUS',\n",
       " 846: 'TITUS',\n",
       " 847: 'TITUS ANDRONICUS',\n",
       " 848: 'TOUCHSTONE',\n",
       " 849: 'TRANIO',\n",
       " 850: 'TREBONIUS',\n",
       " 851: 'TRINCULO',\n",
       " 852: 'TROILUS',\n",
       " 853: 'TUBAL',\n",
       " 854: 'TYBALT',\n",
       " 855: 'TYRREL',\n",
       " 856: 'Tailor',\n",
       " 857: 'Thieves',\n",
       " 858: 'Third Apparition',\n",
       " 859: 'Third Bandit',\n",
       " 860: 'Third Citizen',\n",
       " 861: 'Third Conspirator',\n",
       " 862: 'Third Fisherman',\n",
       " 863: 'Third Gentleman',\n",
       " 864: 'Third Goth',\n",
       " 865: 'Third Guard',\n",
       " 866: 'Third Knight',\n",
       " 867: 'Third Lord',\n",
       " 868: 'Third Messenger',\n",
       " 869: 'Third Murderer',\n",
       " 870: 'Third Musician',\n",
       " 871: 'Third Neighbour',\n",
       " 872: 'Third Outlaw',\n",
       " 873: 'Third Pirate',\n",
       " 874: 'Third Roman',\n",
       " 875: 'Third Senator',\n",
       " 876: 'Third Servant',\n",
       " 877: 'Third Servingman',\n",
       " 878: 'Third Soldier',\n",
       " 879: 'Third Stranger',\n",
       " 880: 'Third Watchman',\n",
       " 881: 'Third Witch',\n",
       " 882: 'Thisbe',\n",
       " 883: 'Time',\n",
       " 884: 'Townsman',\n",
       " 885: 'Travellers',\n",
       " 886: 'Tribunes',\n",
       " 887: 'Tutor',\n",
       " 888: 'Tyrian Sailor',\n",
       " 889: 'ULYSSES',\n",
       " 890: 'URSULA',\n",
       " 891: 'VALENTINE',\n",
       " 892: 'VALERIA',\n",
       " 893: 'VARRIUS',\n",
       " 894: 'VARRO',\n",
       " 895: 'VAUGHAN',\n",
       " 896: 'VAUX',\n",
       " 897: 'VENTIDIUS',\n",
       " 898: 'VERGES',\n",
       " 899: 'VERNON',\n",
       " 900: 'VINCENTIO',\n",
       " 901: 'VIOLA',\n",
       " 902: 'VIRGILIA',\n",
       " 903: 'VOLTIMAND',\n",
       " 904: 'VOLUMNIA',\n",
       " 905: 'VOLUMNIUS',\n",
       " 906: 'Vintner',\n",
       " 907: 'Volsce',\n",
       " 908: 'WARWICK',\n",
       " 909: 'WESTMORELAND',\n",
       " 910: 'WHITMORE',\n",
       " 911: 'WILLIAM',\n",
       " 912: 'WILLIAM PAGE',\n",
       " 913: 'WILLIAM STAFFORD',\n",
       " 914: 'WILLIAMS',\n",
       " 915: 'WOODVILE',\n",
       " 916: 'WORCESTER',\n",
       " 917: 'Wall',\n",
       " 918: 'Watch',\n",
       " 919: 'Watchman',\n",
       " 920: 'Widow',\n",
       " 921: 'Wife',\n",
       " 922: 'YORK',\n",
       " 923: 'YOUNG CLIFFORD',\n",
       " 924: 'YOUNG SIWARD',\n",
       " 925: 'Young LUCIUS',\n",
       " 926: 'Young MARCIUS',\n",
       " 927: 'of BUCKINGHAM',\n",
       " 928: 'of King Henry VI',\n",
       " 929: 'of Prince Edward',\n",
       " 930: 'of young Princes'}"
      ]
     },
     "execution_count": 97,
     "metadata": {},
     "output_type": "execute_result"
    }
   ],
   "source": [
    "from sklearn.preprocessing import LabelEncoder\n",
    "pl = LabelEncoder()\n",
    "player_labels = pl.fit_transform(df1['Player'])\n",
    "player_mappings = {index: label for index, label in \n",
    "                  enumerate(pl.classes_)}\n",
    "player_mappings"
   ]
  },
  {
   "cell_type": "code",
   "execution_count": 98,
   "metadata": {},
   "outputs": [],
   "source": [
    "label=player_labels"
   ]
  },
  {
   "cell_type": "code",
   "execution_count": 87,
   "metadata": {},
   "outputs": [
    {
     "data": {
      "text/plain": [
       "(107580, 5834)"
      ]
     },
     "execution_count": 87,
     "metadata": {},
     "output_type": "execute_result"
    }
   ],
   "source": [
    "tfidf=TfidfVectorizer(sublinear_tf=True,min_df=10,ngram_range=(1,2),stop_words='english')\n",
    "features=tfidf.fit_transform(d)\n",
    "features.shape"
   ]
  },
  {
   "cell_type": "code",
   "execution_count": 99,
   "metadata": {},
   "outputs": [
    {
     "data": {
      "text/plain": [
       "(107580,)"
      ]
     },
     "execution_count": 99,
     "metadata": {},
     "output_type": "execute_result"
    }
   ],
   "source": [
    "player_labels.shape"
   ]
  },
  {
   "cell_type": "code",
   "execution_count": 100,
   "metadata": {},
   "outputs": [
    {
     "data": {
      "text/plain": [
       "(107580, 5834)"
      ]
     },
     "execution_count": 100,
     "metadata": {},
     "output_type": "execute_result"
    }
   ],
   "source": [
    "features.shape"
   ]
  },
  {
   "cell_type": "code",
   "execution_count": 101,
   "metadata": {},
   "outputs": [
    {
     "data": {
      "text/plain": [
       "dtype('float64')"
      ]
     },
     "execution_count": 101,
     "metadata": {},
     "output_type": "execute_result"
    }
   ],
   "source": [
    "features.dtype"
   ]
  },
  {
   "cell_type": "code",
   "execution_count": 102,
   "metadata": {},
   "outputs": [],
   "source": [
    "d_train,d_test,label_train,label_test=train_test_split(d,player_labels,random_state=0)"
   ]
  },
  {
   "cell_type": "code",
   "execution_count": 107,
   "metadata": {},
   "outputs": [],
   "source": [
    "count_vect = CountVectorizer()\n",
    "d_train_count = count_vect.fit_transform(d_train)\n",
    "tfidf_transformer = TfidfTransformer()\n",
    "d_train_tfidf = tfidf_transformer.fit_transform(d_train_count)"
   ]
  },
  {
   "cell_type": "code",
   "execution_count": null,
   "metadata": {},
   "outputs": [],
   "source": [
    "from sklearn.linear_model import LogisticRegression\n",
    "classified_LogReg = LogisticRegression().fit(d_train_tfidf, label_train)\n",
    "CLR_Score=classified_LogReg.score(count_vect.transform(d_test), label_test)\n",
    "CNB_ScoreCNB_Score"
   ]
  }
 ],
 "metadata": {
  "colab": {
   "collapsed_sections": [
    "geHou8Y8Oomb"
   ],
   "name": "Untitled1.ipynb",
   "provenance": []
  },
  "kernelspec": {
   "display_name": "Python 3",
   "language": "python",
   "name": "python3"
  },
  "language_info": {
   "codemirror_mode": {
    "name": "ipython",
    "version": 3
   },
   "file_extension": ".py",
   "mimetype": "text/x-python",
   "name": "python",
   "nbconvert_exporter": "python",
   "pygments_lexer": "ipython3",
   "version": "3.7.3"
  }
 },
 "nbformat": 4,
 "nbformat_minor": 1
}
